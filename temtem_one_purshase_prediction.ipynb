{
 "cells": [
  {
   "cell_type": "code",
   "execution_count": 1,
   "metadata": {},
   "outputs": [],
   "source": [
    "import numpy as np\n",
    "import pandas as pd \n",
    "import matplotlib.pyplot as plt \n",
    "import seaborn as sns"
   ]
  },
  {
   "cell_type": "code",
   "execution_count": 2,
   "metadata": {},
   "outputs": [],
   "source": [
    "data_train = pd.read_csv('adctrain.csv')\n",
    "data_test=pd.read_csv('adctest.csv')\n"
   ]
  },
  {
   "cell_type": "code",
   "execution_count": 3,
   "metadata": {},
   "outputs": [
    {
     "data": {
      "text/html": [
       "<div>\n",
       "<style scoped>\n",
       "    .dataframe tbody tr th:only-of-type {\n",
       "        vertical-align: middle;\n",
       "    }\n",
       "\n",
       "    .dataframe tbody tr th {\n",
       "        vertical-align: top;\n",
       "    }\n",
       "\n",
       "    .dataframe thead th {\n",
       "        text-align: right;\n",
       "    }\n",
       "</style>\n",
       "<table border=\"1\" class=\"dataframe\">\n",
       "  <thead>\n",
       "    <tr style=\"text-align: right;\">\n",
       "      <th></th>\n",
       "      <th>Order ID</th>\n",
       "      <th>Order Status</th>\n",
       "      <th>Category Name</th>\n",
       "      <th>Product Name</th>\n",
       "      <th>Quantity</th>\n",
       "      <th>Unit Price</th>\n",
       "      <th>Total Price</th>\n",
       "      <th>Sub Total</th>\n",
       "      <th>Delivery Charge</th>\n",
       "      <th>Payment Method</th>\n",
       "      <th>Customer ID</th>\n",
       "      <th>Merchant</th>\n",
       "      <th>Order Time</th>\n",
       "      <th>Customer Country</th>\n",
       "      <th>Purchase Again</th>\n",
       "    </tr>\n",
       "  </thead>\n",
       "  <tbody>\n",
       "    <tr>\n",
       "      <th>0</th>\n",
       "      <td>8236617</td>\n",
       "      <td>DEFAULT</td>\n",
       "      <td>Promotions</td>\n",
       "      <td>03 fardeaux Ifri + 1 offert</td>\n",
       "      <td>30</td>\n",
       "      <td>480</td>\n",
       "      <td>14400</td>\n",
       "      <td>43650</td>\n",
       "      <td>200200</td>\n",
       "      <td>CASH_PAY</td>\n",
       "      <td>8392354.0</td>\n",
       "      <td>6158523</td>\n",
       "      <td>2021-01-01 00:26:48</td>\n",
       "      <td>Algeria</td>\n",
       "      <td>1</td>\n",
       "    </tr>\n",
       "    <tr>\n",
       "      <th>1</th>\n",
       "      <td>8236617</td>\n",
       "      <td>DEFAULT</td>\n",
       "      <td>Promotions</td>\n",
       "      <td>3 fardeaux coca achetes = 1 fardeau offert</td>\n",
       "      <td>15</td>\n",
       "      <td>1800</td>\n",
       "      <td>27000</td>\n",
       "      <td>43650</td>\n",
       "      <td>200200</td>\n",
       "      <td>CASH_PAY</td>\n",
       "      <td>8392354.0</td>\n",
       "      <td>6158523</td>\n",
       "      <td>2021-01-01 00:26:48</td>\n",
       "      <td>Algeria</td>\n",
       "      <td>1</td>\n",
       "    </tr>\n",
       "    <tr>\n",
       "      <th>2</th>\n",
       "      <td>8236617</td>\n",
       "      <td>DEFAULT</td>\n",
       "      <td>Promotions</td>\n",
       "      <td>Snickers mini cube 200g</td>\n",
       "      <td>5</td>\n",
       "      <td>450</td>\n",
       "      <td>2250</td>\n",
       "      <td>43650</td>\n",
       "      <td>200200</td>\n",
       "      <td>CASH_PAY</td>\n",
       "      <td>8392354.0</td>\n",
       "      <td>6158523</td>\n",
       "      <td>2021-01-01 00:26:48</td>\n",
       "      <td>Algeria</td>\n",
       "      <td>1</td>\n",
       "    </tr>\n",
       "    <tr>\n",
       "      <th>3</th>\n",
       "      <td>8236624</td>\n",
       "      <td>COMPLETED</td>\n",
       "      <td>Paves</td>\n",
       "      <td>Pave chocolat</td>\n",
       "      <td>3</td>\n",
       "      <td>100</td>\n",
       "      <td>300</td>\n",
       "      <td>1460</td>\n",
       "      <td>700700</td>\n",
       "      <td>CARD_PAY</td>\n",
       "      <td>6359544.0</td>\n",
       "      <td>17654385</td>\n",
       "      <td>2021-01-01 00:27:29</td>\n",
       "      <td>Algeria</td>\n",
       "      <td>1</td>\n",
       "    </tr>\n",
       "    <tr>\n",
       "      <th>4</th>\n",
       "      <td>8236624</td>\n",
       "      <td>COMPLETED</td>\n",
       "      <td>Tartes</td>\n",
       "      <td>Tarte citron</td>\n",
       "      <td>3</td>\n",
       "      <td>100</td>\n",
       "      <td>300</td>\n",
       "      <td>1460</td>\n",
       "      <td>700700</td>\n",
       "      <td>CARD_PAY</td>\n",
       "      <td>6359544.0</td>\n",
       "      <td>17654385</td>\n",
       "      <td>2021-01-01 00:27:29</td>\n",
       "      <td>Algeria</td>\n",
       "      <td>1</td>\n",
       "    </tr>\n",
       "  </tbody>\n",
       "</table>\n",
       "</div>"
      ],
      "text/plain": [
       "   Order ID Order Status Category Name  \\\n",
       "0   8236617      DEFAULT    Promotions   \n",
       "1   8236617      DEFAULT    Promotions   \n",
       "2   8236617      DEFAULT    Promotions   \n",
       "3   8236624    COMPLETED         Paves   \n",
       "4   8236624    COMPLETED        Tartes   \n",
       "\n",
       "                                 Product Name  Quantity Unit Price  \\\n",
       "0                 03 fardeaux Ifri + 1 offert        30        480   \n",
       "1  3 fardeaux coca achetes = 1 fardeau offert        15       1800   \n",
       "2                     Snickers mini cube 200g         5        450   \n",
       "3                               Pave chocolat         3        100   \n",
       "4                                Tarte citron         3        100   \n",
       "\n",
       "  Total Price Sub Total Delivery Charge Payment Method  Customer ID  Merchant  \\\n",
       "0       14400     43650          200200       CASH_PAY    8392354.0   6158523   \n",
       "1       27000     43650          200200       CASH_PAY    8392354.0   6158523   \n",
       "2        2250     43650          200200       CASH_PAY    8392354.0   6158523   \n",
       "3         300      1460          700700       CARD_PAY    6359544.0  17654385   \n",
       "4         300      1460          700700       CARD_PAY    6359544.0  17654385   \n",
       "\n",
       "            Order Time Customer Country  Purchase Again  \n",
       "0  2021-01-01 00:26:48          Algeria               1  \n",
       "1  2021-01-01 00:26:48          Algeria               1  \n",
       "2  2021-01-01 00:26:48          Algeria               1  \n",
       "3  2021-01-01 00:27:29          Algeria               1  \n",
       "4  2021-01-01 00:27:29          Algeria               1  "
      ]
     },
     "execution_count": 3,
     "metadata": {},
     "output_type": "execute_result"
    }
   ],
   "source": [
    "data_train.head()"
   ]
  },
  {
   "cell_type": "code",
   "execution_count": 4,
   "metadata": {},
   "outputs": [
    {
     "data": {
      "text/html": [
       "<div>\n",
       "<style scoped>\n",
       "    .dataframe tbody tr th:only-of-type {\n",
       "        vertical-align: middle;\n",
       "    }\n",
       "\n",
       "    .dataframe tbody tr th {\n",
       "        vertical-align: top;\n",
       "    }\n",
       "\n",
       "    .dataframe thead th {\n",
       "        text-align: right;\n",
       "    }\n",
       "</style>\n",
       "<table border=\"1\" class=\"dataframe\">\n",
       "  <thead>\n",
       "    <tr style=\"text-align: right;\">\n",
       "      <th></th>\n",
       "      <th>Order ID</th>\n",
       "      <th>Order Status</th>\n",
       "      <th>Category Name</th>\n",
       "      <th>Product Name</th>\n",
       "      <th>Quantity</th>\n",
       "      <th>Unit Price</th>\n",
       "      <th>Total Price</th>\n",
       "      <th>Sub Total</th>\n",
       "      <th>Delivery Charge</th>\n",
       "      <th>Payment Method</th>\n",
       "      <th>Customer ID</th>\n",
       "      <th>Merchant</th>\n",
       "      <th>Order Time</th>\n",
       "      <th>Customer Country</th>\n",
       "    </tr>\n",
       "  </thead>\n",
       "  <tbody>\n",
       "    <tr>\n",
       "      <th>0</th>\n",
       "      <td>8236741</td>\n",
       "      <td>COMPLETED</td>\n",
       "      <td>Chocolat</td>\n",
       "      <td>NUTELLA 750g</td>\n",
       "      <td>2</td>\n",
       "      <td>1390</td>\n",
       "      <td>2780</td>\n",
       "      <td>4740</td>\n",
       "      <td>550550</td>\n",
       "      <td>CARD_PAY</td>\n",
       "      <td>8392444.0</td>\n",
       "      <td>7225386</td>\n",
       "      <td>2021-01-01 00:40:42</td>\n",
       "      <td>Algeria</td>\n",
       "    </tr>\n",
       "    <tr>\n",
       "      <th>1</th>\n",
       "      <td>8236741</td>\n",
       "      <td>COMPLETED</td>\n",
       "      <td>Chocolat</td>\n",
       "      <td>MILKA chocolat extra cacao 100g</td>\n",
       "      <td>1</td>\n",
       "      <td>210</td>\n",
       "      <td>210</td>\n",
       "      <td>4740</td>\n",
       "      <td>550550</td>\n",
       "      <td>CARD_PAY</td>\n",
       "      <td>8392444.0</td>\n",
       "      <td>7225386</td>\n",
       "      <td>2021-01-01 00:40:42</td>\n",
       "      <td>Algeria</td>\n",
       "    </tr>\n",
       "    <tr>\n",
       "      <th>2</th>\n",
       "      <td>8236741</td>\n",
       "      <td>COMPLETED</td>\n",
       "      <td>Chocolat</td>\n",
       "      <td>MILKA strawberry 100g</td>\n",
       "      <td>1</td>\n",
       "      <td>210</td>\n",
       "      <td>210</td>\n",
       "      <td>4740</td>\n",
       "      <td>550550</td>\n",
       "      <td>CARD_PAY</td>\n",
       "      <td>8392444.0</td>\n",
       "      <td>7225386</td>\n",
       "      <td>2021-01-01 00:40:42</td>\n",
       "      <td>Algeria</td>\n",
       "    </tr>\n",
       "    <tr>\n",
       "      <th>3</th>\n",
       "      <td>8236741</td>\n",
       "      <td>COMPLETED</td>\n",
       "      <td>Chocolat</td>\n",
       "      <td>LINDT les grandes noisette</td>\n",
       "      <td>1</td>\n",
       "      <td>900</td>\n",
       "      <td>900</td>\n",
       "      <td>4740</td>\n",
       "      <td>550550</td>\n",
       "      <td>CARD_PAY</td>\n",
       "      <td>8392444.0</td>\n",
       "      <td>7225386</td>\n",
       "      <td>2021-01-01 00:40:42</td>\n",
       "      <td>Algeria</td>\n",
       "    </tr>\n",
       "    <tr>\n",
       "      <th>4</th>\n",
       "      <td>8236741</td>\n",
       "      <td>COMPLETED</td>\n",
       "      <td>Boisson</td>\n",
       "      <td>IFRI eau minerale 1.5l x 6</td>\n",
       "      <td>2</td>\n",
       "      <td>170</td>\n",
       "      <td>340</td>\n",
       "      <td>4740</td>\n",
       "      <td>550550</td>\n",
       "      <td>CARD_PAY</td>\n",
       "      <td>8392444.0</td>\n",
       "      <td>7225386</td>\n",
       "      <td>2021-01-01 00:40:42</td>\n",
       "      <td>Algeria</td>\n",
       "    </tr>\n",
       "  </tbody>\n",
       "</table>\n",
       "</div>"
      ],
      "text/plain": [
       "   Order ID Order Status Category Name                     Product Name  \\\n",
       "0   8236741    COMPLETED      Chocolat                     NUTELLA 750g   \n",
       "1   8236741    COMPLETED      Chocolat  MILKA chocolat extra cacao 100g   \n",
       "2   8236741    COMPLETED      Chocolat            MILKA strawberry 100g   \n",
       "3   8236741    COMPLETED      Chocolat       LINDT les grandes noisette   \n",
       "4   8236741    COMPLETED       Boisson       IFRI eau minerale 1.5l x 6   \n",
       "\n",
       "   Quantity Unit Price Total Price Sub Total Delivery Charge Payment Method  \\\n",
       "0         2       1390        2780      4740          550550       CARD_PAY   \n",
       "1         1        210         210      4740          550550       CARD_PAY   \n",
       "2         1        210         210      4740          550550       CARD_PAY   \n",
       "3         1        900         900      4740          550550       CARD_PAY   \n",
       "4         2        170         340      4740          550550       CARD_PAY   \n",
       "\n",
       "   Customer ID  Merchant           Order Time Customer Country  \n",
       "0    8392444.0   7225386  2021-01-01 00:40:42          Algeria  \n",
       "1    8392444.0   7225386  2021-01-01 00:40:42          Algeria  \n",
       "2    8392444.0   7225386  2021-01-01 00:40:42          Algeria  \n",
       "3    8392444.0   7225386  2021-01-01 00:40:42          Algeria  \n",
       "4    8392444.0   7225386  2021-01-01 00:40:42          Algeria  "
      ]
     },
     "execution_count": 4,
     "metadata": {},
     "output_type": "execute_result"
    }
   ],
   "source": [
    "data_test.head()"
   ]
  },
  {
   "cell_type": "code",
   "execution_count": 5,
   "metadata": {},
   "outputs": [
    {
     "data": {
      "text/plain": [
       "(17761, 15)"
      ]
     },
     "execution_count": 5,
     "metadata": {},
     "output_type": "execute_result"
    }
   ],
   "source": [
    "data_train.shape"
   ]
  },
  {
   "cell_type": "code",
   "execution_count": 6,
   "metadata": {},
   "outputs": [
    {
     "name": "stdout",
     "output_type": "stream",
     "text": [
      "<class 'pandas.core.frame.DataFrame'>\n",
      "RangeIndex: 17761 entries, 0 to 17760\n",
      "Data columns (total 15 columns):\n",
      " #   Column            Non-Null Count  Dtype  \n",
      "---  ------            --------------  -----  \n",
      " 0   Order ID          17761 non-null  int64  \n",
      " 1   Order Status      17761 non-null  object \n",
      " 2   Category Name     9093 non-null   object \n",
      " 3   Product Name      17761 non-null  object \n",
      " 4   Quantity          17761 non-null  int64  \n",
      " 5   Unit Price        17761 non-null  object \n",
      " 6   Total Price       17761 non-null  object \n",
      " 7   Sub Total         17245 non-null  object \n",
      " 8   Delivery Charge   17731 non-null  object \n",
      " 9   Payment Method    17326 non-null  object \n",
      " 10  Customer ID       17263 non-null  float64\n",
      " 11  Merchant          17761 non-null  int64  \n",
      " 12  Order Time        17761 non-null  object \n",
      " 13  Customer Country  17714 non-null  object \n",
      " 14  Purchase Again    17761 non-null  int64  \n",
      "dtypes: float64(1), int64(4), object(10)\n",
      "memory usage: 2.0+ MB\n"
     ]
    }
   ],
   "source": [
    "data_train.info()"
   ]
  },
  {
   "cell_type": "code",
   "execution_count": 7,
   "metadata": {},
   "outputs": [
    {
     "data": {
      "text/html": [
       "<div>\n",
       "<style scoped>\n",
       "    .dataframe tbody tr th:only-of-type {\n",
       "        vertical-align: middle;\n",
       "    }\n",
       "\n",
       "    .dataframe tbody tr th {\n",
       "        vertical-align: top;\n",
       "    }\n",
       "\n",
       "    .dataframe thead th {\n",
       "        text-align: right;\n",
       "    }\n",
       "</style>\n",
       "<table border=\"1\" class=\"dataframe\">\n",
       "  <thead>\n",
       "    <tr style=\"text-align: right;\">\n",
       "      <th></th>\n",
       "      <th>Order ID</th>\n",
       "      <th>Quantity</th>\n",
       "      <th>Customer ID</th>\n",
       "      <th>Merchant</th>\n",
       "      <th>Purchase Again</th>\n",
       "    </tr>\n",
       "  </thead>\n",
       "  <tbody>\n",
       "    <tr>\n",
       "      <th>count</th>\n",
       "      <td>1.776100e+04</td>\n",
       "      <td>17761.000000</td>\n",
       "      <td>1.726300e+04</td>\n",
       "      <td>1.776100e+04</td>\n",
       "      <td>17761.000000</td>\n",
       "    </tr>\n",
       "    <tr>\n",
       "      <th>mean</th>\n",
       "      <td>2.893365e+11</td>\n",
       "      <td>2.082822</td>\n",
       "      <td>5.637509e+09</td>\n",
       "      <td>1.018583e+09</td>\n",
       "      <td>0.448905</td>\n",
       "    </tr>\n",
       "    <tr>\n",
       "      <th>std</th>\n",
       "      <td>2.048232e+12</td>\n",
       "      <td>3.523515</td>\n",
       "      <td>4.618781e+10</td>\n",
       "      <td>1.325224e+11</td>\n",
       "      <td>0.497396</td>\n",
       "    </tr>\n",
       "    <tr>\n",
       "      <th>min</th>\n",
       "      <td>8.236617e+06</td>\n",
       "      <td>1.000000</td>\n",
       "      <td>1.629574e+06</td>\n",
       "      <td>6.158523e+06</td>\n",
       "      <td>0.000000</td>\n",
       "    </tr>\n",
       "    <tr>\n",
       "      <th>25%</th>\n",
       "      <td>1.901861e+09</td>\n",
       "      <td>1.000000</td>\n",
       "      <td>6.258220e+06</td>\n",
       "      <td>7.149870e+06</td>\n",
       "      <td>0.000000</td>\n",
       "    </tr>\n",
       "    <tr>\n",
       "      <th>50%</th>\n",
       "      <td>3.126940e+09</td>\n",
       "      <td>1.000000</td>\n",
       "      <td>7.821300e+06</td>\n",
       "      <td>8.065701e+06</td>\n",
       "      <td>0.000000</td>\n",
       "    </tr>\n",
       "    <tr>\n",
       "      <th>75%</th>\n",
       "      <td>7.613038e+09</td>\n",
       "      <td>2.000000</td>\n",
       "      <td>2.819531e+09</td>\n",
       "      <td>2.325553e+07</td>\n",
       "      <td>1.000000</td>\n",
       "    </tr>\n",
       "    <tr>\n",
       "      <th>max</th>\n",
       "      <td>1.021310e+14</td>\n",
       "      <td>200.000000</td>\n",
       "      <td>1.292000e+12</td>\n",
       "      <td>1.766100e+13</td>\n",
       "      <td>1.000000</td>\n",
       "    </tr>\n",
       "  </tbody>\n",
       "</table>\n",
       "</div>"
      ],
      "text/plain": [
       "           Order ID      Quantity   Customer ID      Merchant  Purchase Again\n",
       "count  1.776100e+04  17761.000000  1.726300e+04  1.776100e+04    17761.000000\n",
       "mean   2.893365e+11      2.082822  5.637509e+09  1.018583e+09        0.448905\n",
       "std    2.048232e+12      3.523515  4.618781e+10  1.325224e+11        0.497396\n",
       "min    8.236617e+06      1.000000  1.629574e+06  6.158523e+06        0.000000\n",
       "25%    1.901861e+09      1.000000  6.258220e+06  7.149870e+06        0.000000\n",
       "50%    3.126940e+09      1.000000  7.821300e+06  8.065701e+06        0.000000\n",
       "75%    7.613038e+09      2.000000  2.819531e+09  2.325553e+07        1.000000\n",
       "max    1.021310e+14    200.000000  1.292000e+12  1.766100e+13        1.000000"
      ]
     },
     "execution_count": 7,
     "metadata": {},
     "output_type": "execute_result"
    }
   ],
   "source": [
    "data_train.describe()"
   ]
  },
  {
   "cell_type": "code",
   "execution_count": 8,
   "metadata": {
    "scrolled": true
   },
   "outputs": [
    {
     "data": {
      "text/plain": [
       "Order ID             0.000000\n",
       "Order Status         0.000000\n",
       "Category Name       48.803558\n",
       "Product Name         0.000000\n",
       "Quantity             0.000000\n",
       "Unit Price           0.000000\n",
       "Total Price          0.000000\n",
       "Sub Total            2.905242\n",
       "Delivery Charge      0.168909\n",
       "Payment Method       2.449186\n",
       "Customer ID          2.803896\n",
       "Merchant             0.000000\n",
       "Order Time           0.000000\n",
       "Customer Country     0.264625\n",
       "Purchase Again       0.000000\n",
       "dtype: float64"
      ]
     },
     "execution_count": 8,
     "metadata": {},
     "output_type": "execute_result"
    }
   ],
   "source": [
    "missing_rate_train = data_train.isnull().sum()/data_train.shape[0] * 100\n",
    "missing_rate_train"
   ]
  },
  {
   "cell_type": "code",
   "execution_count": 9,
   "metadata": {},
   "outputs": [
    {
     "data": {
      "text/plain": [
       "Order ID             0.000000\n",
       "Order Status         0.000000\n",
       "Category Name       48.803558\n",
       "Product Name         0.000000\n",
       "Quantity             0.000000\n",
       "Unit Price           0.000000\n",
       "Total Price          0.000000\n",
       "Sub Total            2.905242\n",
       "Delivery Charge      0.168909\n",
       "Payment Method       2.449186\n",
       "Customer ID          2.803896\n",
       "Merchant             0.000000\n",
       "Order Time           0.000000\n",
       "Customer Country     0.264625\n",
       "Purchase Again       0.000000\n",
       "dtype: float64"
      ]
     },
     "execution_count": 9,
     "metadata": {},
     "output_type": "execute_result"
    }
   ],
   "source": [
    "missing_rate_test = data_train.isnull().sum()/data_train.shape[0] * 100\n",
    "missing_rate_test"
   ]
  },
  {
   "cell_type": "code",
   "execution_count": 10,
   "metadata": {},
   "outputs": [
    {
     "data": {
      "text/plain": [
       "(12013, 14)"
      ]
     },
     "execution_count": 10,
     "metadata": {},
     "output_type": "execute_result"
    }
   ],
   "source": [
    "data_test.shape"
   ]
  },
  {
   "cell_type": "code",
   "execution_count": 11,
   "metadata": {},
   "outputs": [
    {
     "data": {
      "text/plain": [
       "COMPLETED      14699\n",
       "REJECTED        1769\n",
       "ACCEPTED         665\n",
       "CANCELLED        350\n",
       "DEFAULT          195\n",
       "SEND_TO_TMS       83\n",
       "Name: Order Status, dtype: int64"
      ]
     },
     "execution_count": 11,
     "metadata": {},
     "output_type": "execute_result"
    }
   ],
   "source": [
    "data_train[\"Order Status\"].value_counts()"
   ]
  },
  {
   "cell_type": "code",
   "execution_count": 12,
   "metadata": {},
   "outputs": [
    {
     "data": {
      "text/plain": [
       "COMPLETED      9776\n",
       "REJECTED       1372\n",
       "ACCEPTED        631\n",
       "CANCELLED       145\n",
       "DEFAULT          53\n",
       "SEND_TO_TMS      36\n",
       "Name: Order Status, dtype: int64"
      ]
     },
     "execution_count": 12,
     "metadata": {},
     "output_type": "execute_result"
    }
   ],
   "source": [
    "data_test[\"Order Status\"].value_counts()"
   ]
  },
  {
   "cell_type": "code",
   "execution_count": 13,
   "metadata": {},
   "outputs": [
    {
     "data": {
      "text/plain": [
       "CARD_PAY    12092\n",
       "CASH_PAY     4717\n",
       "CASH          495\n",
       "0              22\n",
       "Name: Payment Method, dtype: int64"
      ]
     },
     "execution_count": 13,
     "metadata": {},
     "output_type": "execute_result"
    }
   ],
   "source": [
    "data_train[\"Payment Method\"].value_counts()"
   ]
  },
  {
   "cell_type": "code",
   "execution_count": 14,
   "metadata": {},
   "outputs": [
    {
     "data": {
      "text/plain": [
       "CARD_PAY    8271\n",
       "CASH_PAY    3337\n",
       "CASH         304\n",
       "Name: Payment Method, dtype: int64"
      ]
     },
     "execution_count": 14,
     "metadata": {},
     "output_type": "execute_result"
    }
   ],
   "source": [
    "data_test[\"Payment Method\"].value_counts()"
   ]
  },
  {
   "cell_type": "code",
   "execution_count": 15,
   "metadata": {},
   "outputs": [
    {
     "data": {
      "text/plain": [
       "0    55.10951\n",
       "1    44.89049\n",
       "Name: Purchase Again, dtype: float64"
      ]
     },
     "execution_count": 15,
     "metadata": {},
     "output_type": "execute_result"
    }
   ],
   "source": [
    "data_train[\"Purchase Again\"].value_counts()/data_train.shape[0]*100"
   ]
  },
  {
   "cell_type": "code",
   "execution_count": 16,
   "metadata": {},
   "outputs": [
    {
     "data": {
      "text/plain": [
       "Algeria           97.989978\n",
       "France             1.418839\n",
       "Canada             0.112606\n",
       "United States      0.101346\n",
       "United Kingdom     0.095715\n",
       "Sweden             0.016891\n",
       "Name: Customer Country, dtype: float64"
      ]
     },
     "execution_count": 16,
     "metadata": {},
     "output_type": "execute_result"
    }
   ],
   "source": [
    "data_train[\"Customer Country\"].value_counts()/data_train.shape[0]*100"
   ]
  },
  {
   "cell_type": "code",
   "execution_count": 17,
   "metadata": {},
   "outputs": [
    {
     "data": {
      "text/plain": [
       "55"
      ]
     },
     "execution_count": 17,
     "metadata": {},
     "output_type": "execute_result"
    }
   ],
   "source": [
    "data_train['Merchant'].value_counts().shape[0]"
   ]
  },
  {
   "cell_type": "code",
   "execution_count": null,
   "metadata": {},
   "outputs": [],
   "source": []
  },
  {
   "cell_type": "code",
   "execution_count": 18,
   "metadata": {},
   "outputs": [
    {
     "data": {
      "text/plain": [
       "17761"
      ]
     },
     "execution_count": 18,
     "metadata": {},
     "output_type": "execute_result"
    }
   ],
   "source": [
    "valeurs_merchant = data_train.Merchant.unique()\n",
    "a = []\n",
    "for i in valeurs_merchant : \n",
    "    my_merchant = data_train.loc[data_train[\"Merchant\"] == i]\n",
    "    b = len(my_merchant[my_merchant[\"Purchase Again\"] == 1])/len(my_merchant[\"Purchase Again\"])\n",
    "    a.append(b)\n",
    "taux_per_merchant = []\n",
    "for j in data_train[\"Merchant\"] : \n",
    "    for i in range(55): \n",
    "        if j == valeurs_merchant[i] : \n",
    "            taux_per_merchant.append(a[i])\n",
    "len(taux_per_merchant )"
   ]
  },
  {
   "cell_type": "code",
   "execution_count": 19,
   "metadata": {},
   "outputs": [],
   "source": [
    "data_train['taux_per_merchant'] = taux_per_merchant"
   ]
  },
  {
   "cell_type": "code",
   "execution_count": null,
   "metadata": {},
   "outputs": [],
   "source": []
  },
  {
   "cell_type": "code",
   "execution_count": null,
   "metadata": {},
   "outputs": [],
   "source": []
  },
  {
   "cell_type": "code",
   "execution_count": 20,
   "metadata": {},
   "outputs": [
    {
     "data": {
      "text/plain": [
       "80"
      ]
     },
     "execution_count": 20,
     "metadata": {},
     "output_type": "execute_result"
    }
   ],
   "source": [
    "data_train['Delivery Charge'] = pd.to_numeric(data_train['Delivery Charge'], errors='coerce')\n",
    "data_train['Delivery Charge'].isnull().sum()\n"
   ]
  },
  {
   "cell_type": "code",
   "execution_count": 21,
   "metadata": {},
   "outputs": [
    {
     "data": {
      "text/plain": [
       "5"
      ]
     },
     "execution_count": 21,
     "metadata": {},
     "output_type": "execute_result"
    }
   ],
   "source": [
    "data_test['Delivery Charge'] = pd.to_numeric(data_test['Delivery Charge'], errors='coerce')\n",
    "data_test['Delivery Charge'].isnull().sum()"
   ]
  },
  {
   "cell_type": "code",
   "execution_count": 22,
   "metadata": {},
   "outputs": [
    {
     "data": {
      "text/plain": [
       "0"
      ]
     },
     "execution_count": 22,
     "metadata": {},
     "output_type": "execute_result"
    }
   ],
   "source": [
    "data_train[\"Delivery Charge\"] = data_train[\"Delivery Charge\"].fillna(0)\n",
    "data_train[\"Delivery Charge\"] = data_train[\"Delivery Charge\"].astype(np.int64)\n",
    "data_train['Delivery Charge'].isnull().sum()"
   ]
  },
  {
   "cell_type": "code",
   "execution_count": 23,
   "metadata": {},
   "outputs": [
    {
     "data": {
      "text/plain": [
       "0"
      ]
     },
     "execution_count": 23,
     "metadata": {},
     "output_type": "execute_result"
    }
   ],
   "source": [
    "data_test[\"Delivery Charge\"] = data_test[\"Delivery Charge\"].fillna(0)\n",
    "data_test[\"Delivery Charge\"] = data_test[\"Delivery Charge\"].astype(np.int64)\n",
    "data_test['Delivery Charge'].isnull().sum()"
   ]
  },
  {
   "cell_type": "code",
   "execution_count": 24,
   "metadata": {},
   "outputs": [],
   "source": [
    "data_train[\"Delivery Charge 2\"] = data_train[\"Delivery Charge\"].apply(lambda x : int(len(str(x))/2))\n",
    "delivery = []\n",
    "for i in range(data_train.shape[0]):\n",
    "    delivery.append(str(data_train[\"Delivery Charge\"].iloc[i])[:int(data_train[\"Delivery Charge 2\"].iloc[i])])"
   ]
  },
  {
   "cell_type": "code",
   "execution_count": 25,
   "metadata": {},
   "outputs": [],
   "source": [
    "data_train['Delivery Charge'] = delivery"
   ]
  },
  {
   "cell_type": "code",
   "execution_count": 26,
   "metadata": {},
   "outputs": [
    {
     "data": {
      "text/html": [
       "<div>\n",
       "<style scoped>\n",
       "    .dataframe tbody tr th:only-of-type {\n",
       "        vertical-align: middle;\n",
       "    }\n",
       "\n",
       "    .dataframe tbody tr th {\n",
       "        vertical-align: top;\n",
       "    }\n",
       "\n",
       "    .dataframe thead th {\n",
       "        text-align: right;\n",
       "    }\n",
       "</style>\n",
       "<table border=\"1\" class=\"dataframe\">\n",
       "  <thead>\n",
       "    <tr style=\"text-align: right;\">\n",
       "      <th></th>\n",
       "      <th>Order ID</th>\n",
       "      <th>Order Status</th>\n",
       "      <th>Category Name</th>\n",
       "      <th>Product Name</th>\n",
       "      <th>Quantity</th>\n",
       "      <th>Unit Price</th>\n",
       "      <th>Total Price</th>\n",
       "      <th>Sub Total</th>\n",
       "      <th>Delivery Charge</th>\n",
       "      <th>Payment Method</th>\n",
       "      <th>Customer ID</th>\n",
       "      <th>Merchant</th>\n",
       "      <th>Order Time</th>\n",
       "      <th>Customer Country</th>\n",
       "      <th>Purchase Again</th>\n",
       "      <th>taux_per_merchant</th>\n",
       "      <th>Delivery Charge 2</th>\n",
       "    </tr>\n",
       "  </thead>\n",
       "  <tbody>\n",
       "    <tr>\n",
       "      <th>0</th>\n",
       "      <td>8236617</td>\n",
       "      <td>DEFAULT</td>\n",
       "      <td>Promotions</td>\n",
       "      <td>03 fardeaux Ifri + 1 offert</td>\n",
       "      <td>30</td>\n",
       "      <td>480</td>\n",
       "      <td>14400</td>\n",
       "      <td>43650</td>\n",
       "      <td>200</td>\n",
       "      <td>CASH_PAY</td>\n",
       "      <td>8392354.0</td>\n",
       "      <td>6158523</td>\n",
       "      <td>2021-01-01 00:26:48</td>\n",
       "      <td>Algeria</td>\n",
       "      <td>1</td>\n",
       "      <td>0.316606</td>\n",
       "      <td>3</td>\n",
       "    </tr>\n",
       "    <tr>\n",
       "      <th>1</th>\n",
       "      <td>8236617</td>\n",
       "      <td>DEFAULT</td>\n",
       "      <td>Promotions</td>\n",
       "      <td>3 fardeaux coca achetes = 1 fardeau offert</td>\n",
       "      <td>15</td>\n",
       "      <td>1800</td>\n",
       "      <td>27000</td>\n",
       "      <td>43650</td>\n",
       "      <td>200</td>\n",
       "      <td>CASH_PAY</td>\n",
       "      <td>8392354.0</td>\n",
       "      <td>6158523</td>\n",
       "      <td>2021-01-01 00:26:48</td>\n",
       "      <td>Algeria</td>\n",
       "      <td>1</td>\n",
       "      <td>0.316606</td>\n",
       "      <td>3</td>\n",
       "    </tr>\n",
       "    <tr>\n",
       "      <th>2</th>\n",
       "      <td>8236617</td>\n",
       "      <td>DEFAULT</td>\n",
       "      <td>Promotions</td>\n",
       "      <td>Snickers mini cube 200g</td>\n",
       "      <td>5</td>\n",
       "      <td>450</td>\n",
       "      <td>2250</td>\n",
       "      <td>43650</td>\n",
       "      <td>200</td>\n",
       "      <td>CASH_PAY</td>\n",
       "      <td>8392354.0</td>\n",
       "      <td>6158523</td>\n",
       "      <td>2021-01-01 00:26:48</td>\n",
       "      <td>Algeria</td>\n",
       "      <td>1</td>\n",
       "      <td>0.316606</td>\n",
       "      <td>3</td>\n",
       "    </tr>\n",
       "    <tr>\n",
       "      <th>3</th>\n",
       "      <td>8236624</td>\n",
       "      <td>COMPLETED</td>\n",
       "      <td>Paves</td>\n",
       "      <td>Pave chocolat</td>\n",
       "      <td>3</td>\n",
       "      <td>100</td>\n",
       "      <td>300</td>\n",
       "      <td>1460</td>\n",
       "      <td>700</td>\n",
       "      <td>CARD_PAY</td>\n",
       "      <td>6359544.0</td>\n",
       "      <td>17654385</td>\n",
       "      <td>2021-01-01 00:27:29</td>\n",
       "      <td>Algeria</td>\n",
       "      <td>1</td>\n",
       "      <td>0.464286</td>\n",
       "      <td>3</td>\n",
       "    </tr>\n",
       "    <tr>\n",
       "      <th>4</th>\n",
       "      <td>8236624</td>\n",
       "      <td>COMPLETED</td>\n",
       "      <td>Tartes</td>\n",
       "      <td>Tarte citron</td>\n",
       "      <td>3</td>\n",
       "      <td>100</td>\n",
       "      <td>300</td>\n",
       "      <td>1460</td>\n",
       "      <td>700</td>\n",
       "      <td>CARD_PAY</td>\n",
       "      <td>6359544.0</td>\n",
       "      <td>17654385</td>\n",
       "      <td>2021-01-01 00:27:29</td>\n",
       "      <td>Algeria</td>\n",
       "      <td>1</td>\n",
       "      <td>0.464286</td>\n",
       "      <td>3</td>\n",
       "    </tr>\n",
       "  </tbody>\n",
       "</table>\n",
       "</div>"
      ],
      "text/plain": [
       "   Order ID Order Status Category Name  \\\n",
       "0   8236617      DEFAULT    Promotions   \n",
       "1   8236617      DEFAULT    Promotions   \n",
       "2   8236617      DEFAULT    Promotions   \n",
       "3   8236624    COMPLETED         Paves   \n",
       "4   8236624    COMPLETED        Tartes   \n",
       "\n",
       "                                 Product Name  Quantity Unit Price  \\\n",
       "0                 03 fardeaux Ifri + 1 offert        30        480   \n",
       "1  3 fardeaux coca achetes = 1 fardeau offert        15       1800   \n",
       "2                     Snickers mini cube 200g         5        450   \n",
       "3                               Pave chocolat         3        100   \n",
       "4                                Tarte citron         3        100   \n",
       "\n",
       "  Total Price Sub Total Delivery Charge Payment Method  Customer ID  Merchant  \\\n",
       "0       14400     43650             200       CASH_PAY    8392354.0   6158523   \n",
       "1       27000     43650             200       CASH_PAY    8392354.0   6158523   \n",
       "2        2250     43650             200       CASH_PAY    8392354.0   6158523   \n",
       "3         300      1460             700       CARD_PAY    6359544.0  17654385   \n",
       "4         300      1460             700       CARD_PAY    6359544.0  17654385   \n",
       "\n",
       "            Order Time Customer Country  Purchase Again  taux_per_merchant  \\\n",
       "0  2021-01-01 00:26:48          Algeria               1           0.316606   \n",
       "1  2021-01-01 00:26:48          Algeria               1           0.316606   \n",
       "2  2021-01-01 00:26:48          Algeria               1           0.316606   \n",
       "3  2021-01-01 00:27:29          Algeria               1           0.464286   \n",
       "4  2021-01-01 00:27:29          Algeria               1           0.464286   \n",
       "\n",
       "   Delivery Charge 2  \n",
       "0                  3  \n",
       "1                  3  \n",
       "2                  3  \n",
       "3                  3  \n",
       "4                  3  "
      ]
     },
     "execution_count": 26,
     "metadata": {},
     "output_type": "execute_result"
    }
   ],
   "source": [
    "data_train.head()"
   ]
  },
  {
   "cell_type": "code",
   "execution_count": 27,
   "metadata": {},
   "outputs": [],
   "source": [
    "data_test[\"Delivery Charge 2\"] = data_test[\"Delivery Charge\"].apply(lambda x : int(len(str(x))/2))\n",
    "delivery = []\n",
    "for i in range(data_test.shape[0]):\n",
    "    delivery.append(str(data_test[\"Delivery Charge\"].iloc[i])[:int(data_test[\"Delivery Charge 2\"].iloc[i])])"
   ]
  },
  {
   "cell_type": "code",
   "execution_count": 28,
   "metadata": {},
   "outputs": [],
   "source": [
    "data_test['Delivery Charge'] = delivery"
   ]
  },
  {
   "cell_type": "code",
   "execution_count": 29,
   "metadata": {
    "scrolled": true
   },
   "outputs": [
    {
     "data": {
      "text/html": [
       "<div>\n",
       "<style scoped>\n",
       "    .dataframe tbody tr th:only-of-type {\n",
       "        vertical-align: middle;\n",
       "    }\n",
       "\n",
       "    .dataframe tbody tr th {\n",
       "        vertical-align: top;\n",
       "    }\n",
       "\n",
       "    .dataframe thead th {\n",
       "        text-align: right;\n",
       "    }\n",
       "</style>\n",
       "<table border=\"1\" class=\"dataframe\">\n",
       "  <thead>\n",
       "    <tr style=\"text-align: right;\">\n",
       "      <th></th>\n",
       "      <th>Order ID</th>\n",
       "      <th>Order Status</th>\n",
       "      <th>Category Name</th>\n",
       "      <th>Product Name</th>\n",
       "      <th>Quantity</th>\n",
       "      <th>Unit Price</th>\n",
       "      <th>Total Price</th>\n",
       "      <th>Sub Total</th>\n",
       "      <th>Delivery Charge</th>\n",
       "      <th>Payment Method</th>\n",
       "      <th>Customer ID</th>\n",
       "      <th>Merchant</th>\n",
       "      <th>Order Time</th>\n",
       "      <th>Customer Country</th>\n",
       "      <th>Delivery Charge 2</th>\n",
       "    </tr>\n",
       "  </thead>\n",
       "  <tbody>\n",
       "    <tr>\n",
       "      <th>0</th>\n",
       "      <td>8236741</td>\n",
       "      <td>COMPLETED</td>\n",
       "      <td>Chocolat</td>\n",
       "      <td>NUTELLA 750g</td>\n",
       "      <td>2</td>\n",
       "      <td>1390</td>\n",
       "      <td>2780</td>\n",
       "      <td>4740</td>\n",
       "      <td>550</td>\n",
       "      <td>CARD_PAY</td>\n",
       "      <td>8392444.0</td>\n",
       "      <td>7225386</td>\n",
       "      <td>2021-01-01 00:40:42</td>\n",
       "      <td>Algeria</td>\n",
       "      <td>3</td>\n",
       "    </tr>\n",
       "    <tr>\n",
       "      <th>1</th>\n",
       "      <td>8236741</td>\n",
       "      <td>COMPLETED</td>\n",
       "      <td>Chocolat</td>\n",
       "      <td>MILKA chocolat extra cacao 100g</td>\n",
       "      <td>1</td>\n",
       "      <td>210</td>\n",
       "      <td>210</td>\n",
       "      <td>4740</td>\n",
       "      <td>550</td>\n",
       "      <td>CARD_PAY</td>\n",
       "      <td>8392444.0</td>\n",
       "      <td>7225386</td>\n",
       "      <td>2021-01-01 00:40:42</td>\n",
       "      <td>Algeria</td>\n",
       "      <td>3</td>\n",
       "    </tr>\n",
       "    <tr>\n",
       "      <th>2</th>\n",
       "      <td>8236741</td>\n",
       "      <td>COMPLETED</td>\n",
       "      <td>Chocolat</td>\n",
       "      <td>MILKA strawberry 100g</td>\n",
       "      <td>1</td>\n",
       "      <td>210</td>\n",
       "      <td>210</td>\n",
       "      <td>4740</td>\n",
       "      <td>550</td>\n",
       "      <td>CARD_PAY</td>\n",
       "      <td>8392444.0</td>\n",
       "      <td>7225386</td>\n",
       "      <td>2021-01-01 00:40:42</td>\n",
       "      <td>Algeria</td>\n",
       "      <td>3</td>\n",
       "    </tr>\n",
       "    <tr>\n",
       "      <th>3</th>\n",
       "      <td>8236741</td>\n",
       "      <td>COMPLETED</td>\n",
       "      <td>Chocolat</td>\n",
       "      <td>LINDT les grandes noisette</td>\n",
       "      <td>1</td>\n",
       "      <td>900</td>\n",
       "      <td>900</td>\n",
       "      <td>4740</td>\n",
       "      <td>550</td>\n",
       "      <td>CARD_PAY</td>\n",
       "      <td>8392444.0</td>\n",
       "      <td>7225386</td>\n",
       "      <td>2021-01-01 00:40:42</td>\n",
       "      <td>Algeria</td>\n",
       "      <td>3</td>\n",
       "    </tr>\n",
       "    <tr>\n",
       "      <th>4</th>\n",
       "      <td>8236741</td>\n",
       "      <td>COMPLETED</td>\n",
       "      <td>Boisson</td>\n",
       "      <td>IFRI eau minerale 1.5l x 6</td>\n",
       "      <td>2</td>\n",
       "      <td>170</td>\n",
       "      <td>340</td>\n",
       "      <td>4740</td>\n",
       "      <td>550</td>\n",
       "      <td>CARD_PAY</td>\n",
       "      <td>8392444.0</td>\n",
       "      <td>7225386</td>\n",
       "      <td>2021-01-01 00:40:42</td>\n",
       "      <td>Algeria</td>\n",
       "      <td>3</td>\n",
       "    </tr>\n",
       "  </tbody>\n",
       "</table>\n",
       "</div>"
      ],
      "text/plain": [
       "   Order ID Order Status Category Name                     Product Name  \\\n",
       "0   8236741    COMPLETED      Chocolat                     NUTELLA 750g   \n",
       "1   8236741    COMPLETED      Chocolat  MILKA chocolat extra cacao 100g   \n",
       "2   8236741    COMPLETED      Chocolat            MILKA strawberry 100g   \n",
       "3   8236741    COMPLETED      Chocolat       LINDT les grandes noisette   \n",
       "4   8236741    COMPLETED       Boisson       IFRI eau minerale 1.5l x 6   \n",
       "\n",
       "   Quantity Unit Price Total Price Sub Total Delivery Charge Payment Method  \\\n",
       "0         2       1390        2780      4740             550       CARD_PAY   \n",
       "1         1        210         210      4740             550       CARD_PAY   \n",
       "2         1        210         210      4740             550       CARD_PAY   \n",
       "3         1        900         900      4740             550       CARD_PAY   \n",
       "4         2        170         340      4740             550       CARD_PAY   \n",
       "\n",
       "   Customer ID  Merchant           Order Time Customer Country  \\\n",
       "0    8392444.0   7225386  2021-01-01 00:40:42          Algeria   \n",
       "1    8392444.0   7225386  2021-01-01 00:40:42          Algeria   \n",
       "2    8392444.0   7225386  2021-01-01 00:40:42          Algeria   \n",
       "3    8392444.0   7225386  2021-01-01 00:40:42          Algeria   \n",
       "4    8392444.0   7225386  2021-01-01 00:40:42          Algeria   \n",
       "\n",
       "   Delivery Charge 2  \n",
       "0                  3  \n",
       "1                  3  \n",
       "2                  3  \n",
       "3                  3  \n",
       "4                  3  "
      ]
     },
     "execution_count": 29,
     "metadata": {},
     "output_type": "execute_result"
    }
   ],
   "source": [
    "data_test.head()"
   ]
  },
  {
   "cell_type": "code",
   "execution_count": 30,
   "metadata": {},
   "outputs": [],
   "source": [
    "data_train[\"Delivery Charge\"] = data_train[\"Delivery Charge\"].replace({'':data_train[\"Delivery Charge\"].mode()[0]})"
   ]
  },
  {
   "cell_type": "code",
   "execution_count": 31,
   "metadata": {},
   "outputs": [
    {
     "name": "stdout",
     "output_type": "stream",
     "text": [
      "22\n"
     ]
    },
    {
     "data": {
      "text/plain": [
       "435"
      ]
     },
     "execution_count": 31,
     "metadata": {},
     "output_type": "execute_result"
    }
   ],
   "source": [
    "print(len(data_train[data_train[\"Payment Method\"]== '0']))\n",
    "data_train[\"Payment Method\"].isnull().sum()"
   ]
  },
  {
   "cell_type": "code",
   "execution_count": 32,
   "metadata": {},
   "outputs": [
    {
     "data": {
      "text/plain": [
       "CARD_PAY    12549\n",
       "CASH_PAY     4717\n",
       "CASH          495\n",
       "Name: Payment Method, dtype: int64"
      ]
     },
     "execution_count": 32,
     "metadata": {},
     "output_type": "execute_result"
    }
   ],
   "source": [
    "data_train['Payment Method'].fillna(data_train['Payment Method'].mode()[0], inplace = True)\n",
    "data_train['Payment Method'] = data_train['Payment Method'].replace({'0':'CARD_PAY'})\n",
    "data_train['Payment Method'].value_counts()"
   ]
  },
  {
   "cell_type": "code",
   "execution_count": 33,
   "metadata": {},
   "outputs": [
    {
     "data": {
      "text/plain": [
       "CARD_PAY    12549\n",
       "CASH_PAY     5212\n",
       "Name: Payment Method, dtype: int64"
      ]
     },
     "execution_count": 33,
     "metadata": {},
     "output_type": "execute_result"
    }
   ],
   "source": [
    "data_train['Payment Method'] = data_train['Payment Method'].replace({'CASH':'CASH_PAY'})\n",
    "data_train['Payment Method'].value_counts()"
   ]
  },
  {
   "cell_type": "code",
   "execution_count": 34,
   "metadata": {},
   "outputs": [],
   "source": [
    "data_train['Unit Price'] = pd.to_numeric(data_train['Unit Price'], errors='coerce')\n",
    "data_train['Total Price'] = pd.to_numeric(data_train['Total Price'], errors='coerce')\n",
    "data_train['Sub Total'] = pd.to_numeric(data_train['Sub Total'], errors='coerce')"
   ]
  },
  {
   "cell_type": "code",
   "execution_count": 35,
   "metadata": {},
   "outputs": [],
   "source": [
    "data_train[\"Total Price\"].fillna(data_train[\"Unit Price\"]*data_train[\"Quantity\"],inplace = True)\n",
    "data_train[\"Unit Price\"].fillna(data_train[\"Total Price\"]/data_train[\"Quantity\"],inplace = True)"
   ]
  },
  {
   "cell_type": "code",
   "execution_count": 36,
   "metadata": {},
   "outputs": [],
   "source": [
    "data_train[\"Unit Price\"].fillna(data_train[\"Unit Price\"].mean(),inplace = True)"
   ]
  },
  {
   "cell_type": "code",
   "execution_count": 37,
   "metadata": {},
   "outputs": [],
   "source": [
    "data_train[\"Total Price\"].fillna(data_train[\"Unit Price\"]*data_train[\"Quantity\"],inplace = True)"
   ]
  },
  {
   "cell_type": "code",
   "execution_count": 38,
   "metadata": {},
   "outputs": [
    {
     "name": "stdout",
     "output_type": "stream",
     "text": [
      "0\n",
      "0\n"
     ]
    }
   ],
   "source": [
    "print(data_train[\"Total Price\"].isnull().sum())\n",
    "print(data_train[\"Unit Price\"].isnull().sum())"
   ]
  },
  {
   "cell_type": "code",
   "execution_count": 39,
   "metadata": {},
   "outputs": [],
   "source": [
    "data_test[\"Delivery Charge\"] = data_test[\"Delivery Charge\"].replace({'':data_test[\"Delivery Charge\"].mode()[0]})"
   ]
  },
  {
   "cell_type": "code",
   "execution_count": 40,
   "metadata": {},
   "outputs": [
    {
     "name": "stdout",
     "output_type": "stream",
     "text": [
      "0\n"
     ]
    },
    {
     "data": {
      "text/plain": [
       "101"
      ]
     },
     "execution_count": 40,
     "metadata": {},
     "output_type": "execute_result"
    }
   ],
   "source": [
    "print(len(data_test[data_test[\"Payment Method\"]== '0']))\n",
    "data_test[\"Payment Method\"].isnull().sum()"
   ]
  },
  {
   "cell_type": "code",
   "execution_count": 41,
   "metadata": {},
   "outputs": [
    {
     "data": {
      "text/plain": [
       "CARD_PAY    8372\n",
       "CASH_PAY    3337\n",
       "CASH         304\n",
       "Name: Payment Method, dtype: int64"
      ]
     },
     "execution_count": 41,
     "metadata": {},
     "output_type": "execute_result"
    }
   ],
   "source": [
    "data_test['Payment Method'].fillna(data_test['Payment Method'].mode()[0], inplace = True)\n",
    "data_test['Payment Method'] = data_test['Payment Method'].replace({'0':'CARD_PAY'})\n",
    "data_test['Payment Method'].value_counts()"
   ]
  },
  {
   "cell_type": "code",
   "execution_count": 42,
   "metadata": {},
   "outputs": [
    {
     "data": {
      "text/plain": [
       "CARD_PAY    8372\n",
       "CASH_PAY    3641\n",
       "Name: Payment Method, dtype: int64"
      ]
     },
     "execution_count": 42,
     "metadata": {},
     "output_type": "execute_result"
    }
   ],
   "source": [
    "data_test['Payment Method'] = data_test['Payment Method'].replace({'CASH':'CASH_PAY'})\n",
    "data_test['Payment Method'].value_counts()"
   ]
  },
  {
   "cell_type": "code",
   "execution_count": 43,
   "metadata": {},
   "outputs": [],
   "source": [
    "data_test['Unit Price'] = pd.to_numeric(data_test['Unit Price'], errors='coerce')\n",
    "data_test['Total Price'] = pd.to_numeric(data_test['Total Price'], errors='coerce')\n",
    "data_test['Sub Total'] = pd.to_numeric(data_test['Sub Total'], errors='coerce')"
   ]
  },
  {
   "cell_type": "code",
   "execution_count": 44,
   "metadata": {},
   "outputs": [],
   "source": [
    "data_test[\"Total Price\"].fillna(data_test[\"Unit Price\"]*data_test[\"Quantity\"],inplace = True)\n",
    "data_test[\"Unit Price\"].fillna(data_test[\"Total Price\"]/data_test[\"Quantity\"],inplace = True)"
   ]
  },
  {
   "cell_type": "code",
   "execution_count": 45,
   "metadata": {},
   "outputs": [],
   "source": [
    "data_test[\"Unit Price\"].fillna(data_test[\"Unit Price\"].mean(),inplace = True)"
   ]
  },
  {
   "cell_type": "code",
   "execution_count": 46,
   "metadata": {},
   "outputs": [],
   "source": [
    "data_test[\"Total Price\"].fillna(data_test[\"Unit Price\"]*data_test[\"Quantity\"],inplace = True)"
   ]
  },
  {
   "cell_type": "code",
   "execution_count": 47,
   "metadata": {},
   "outputs": [
    {
     "name": "stdout",
     "output_type": "stream",
     "text": [
      "0\n",
      "0\n"
     ]
    }
   ],
   "source": [
    "print(data_test[\"Total Price\"].isnull().sum())\n",
    "print(data_test[\"Unit Price\"].isnull().sum())"
   ]
  },
  {
   "cell_type": "code",
   "execution_count": 48,
   "metadata": {},
   "outputs": [],
   "source": [
    "order_id_train = data_train[\"Order ID\"].unique()\n",
    "aa_train=[]\n",
    "for i in order_id_train : \n",
    "    aa_train.append(data_train.loc[data_train[\"Order ID\"] == i,'Total Price'].sum())"
   ]
  },
  {
   "cell_type": "code",
   "execution_count": 49,
   "metadata": {},
   "outputs": [
    {
     "name": "stdout",
     "output_type": "stream",
     "text": [
      "2212\n",
      "2212\n"
     ]
    }
   ],
   "source": [
    "print(len(aa_train))\n",
    "print(len(order_id_train))"
   ]
  },
  {
   "cell_type": "code",
   "execution_count": 50,
   "metadata": {},
   "outputs": [],
   "source": [
    "order_id_test = data_test[\"Order ID\"].unique()\n",
    "aa_test=[]\n",
    "for i in order_id_test : \n",
    "    aa_test.append(data_test.loc[data_test[\"Order ID\"] == i,'Total Price'].sum())"
   ]
  },
  {
   "cell_type": "code",
   "execution_count": 51,
   "metadata": {},
   "outputs": [
    {
     "name": "stdout",
     "output_type": "stream",
     "text": [
      "1442\n",
      "1442\n"
     ]
    }
   ],
   "source": [
    "print(len(aa_test))\n",
    "print(len(order_id_test))"
   ]
  },
  {
   "cell_type": "code",
   "execution_count": 52,
   "metadata": {},
   "outputs": [
    {
     "data": {
      "text/plain": [
       "0"
      ]
     },
     "execution_count": 52,
     "metadata": {},
     "output_type": "execute_result"
    }
   ],
   "source": [
    "data_train['Customer Country'].fillna(data_train['Customer Country'].mode()[0], inplace = True)\n",
    "data_train['Customer Country'].isnull().sum()"
   ]
  },
  {
   "cell_type": "code",
   "execution_count": 53,
   "metadata": {},
   "outputs": [],
   "source": [
    "vide = np.nan\n",
    "data_train[\"test\"] = vide"
   ]
  },
  {
   "cell_type": "code",
   "execution_count": 54,
   "metadata": {},
   "outputs": [
    {
     "data": {
      "text/plain": [
       "0"
      ]
     },
     "execution_count": 54,
     "metadata": {},
     "output_type": "execute_result"
    }
   ],
   "source": [
    "data_test['Customer Country'].fillna(data_test['Customer Country'].mode()[0], inplace = True)\n",
    "data_test['Customer Country'].isnull().sum()"
   ]
  },
  {
   "cell_type": "code",
   "execution_count": 55,
   "metadata": {},
   "outputs": [],
   "source": [
    "vide = np.nan\n",
    "data_test[\"test\"] = vide"
   ]
  },
  {
   "cell_type": "code",
   "execution_count": 56,
   "metadata": {},
   "outputs": [],
   "source": [
    "d = []\n",
    "for i in data_train[\"Order ID\"] : \n",
    "    for j in range(len(order_id_train)) : \n",
    "        if i == order_id_train[j] : \n",
    "            d.append(aa_train[j])"
   ]
  },
  {
   "cell_type": "code",
   "execution_count": 57,
   "metadata": {},
   "outputs": [
    {
     "data": {
      "text/plain": [
       "17761"
      ]
     },
     "execution_count": 57,
     "metadata": {},
     "output_type": "execute_result"
    }
   ],
   "source": [
    "len(d)"
   ]
  },
  {
   "cell_type": "code",
   "execution_count": 58,
   "metadata": {},
   "outputs": [],
   "source": [
    "data_train[\"test\"] = d"
   ]
  },
  {
   "cell_type": "code",
   "execution_count": 59,
   "metadata": {},
   "outputs": [],
   "source": [
    "data_train[\"Sub Total\"].fillna(data_train[\"test\"],inplace = True)"
   ]
  },
  {
   "cell_type": "code",
   "execution_count": 60,
   "metadata": {},
   "outputs": [
    {
     "data": {
      "text/plain": [
       "0"
      ]
     },
     "execution_count": 60,
     "metadata": {},
     "output_type": "execute_result"
    }
   ],
   "source": [
    "data_train[\"Sub Total\"].isnull().sum()"
   ]
  },
  {
   "cell_type": "code",
   "execution_count": 61,
   "metadata": {},
   "outputs": [],
   "source": [
    "d = []\n",
    "for i in data_test[\"Order ID\"] : \n",
    "    for j in range(len(order_id_test)) : \n",
    "        if i == order_id_test[j] : \n",
    "            d.append(aa_test[j])"
   ]
  },
  {
   "cell_type": "code",
   "execution_count": 62,
   "metadata": {},
   "outputs": [
    {
     "data": {
      "text/plain": [
       "12013"
      ]
     },
     "execution_count": 62,
     "metadata": {},
     "output_type": "execute_result"
    }
   ],
   "source": [
    "len(d)"
   ]
  },
  {
   "cell_type": "code",
   "execution_count": 63,
   "metadata": {},
   "outputs": [],
   "source": [
    "data_test[\"test\"] = d"
   ]
  },
  {
   "cell_type": "code",
   "execution_count": 64,
   "metadata": {},
   "outputs": [],
   "source": [
    "data_test[\"Sub Total\"].fillna(data_test[\"test\"],inplace = True)"
   ]
  },
  {
   "cell_type": "code",
   "execution_count": 65,
   "metadata": {},
   "outputs": [
    {
     "data": {
      "text/plain": [
       "0"
      ]
     },
     "execution_count": 65,
     "metadata": {},
     "output_type": "execute_result"
    }
   ],
   "source": [
    "data_test[\"Sub Total\"].isnull().sum()"
   ]
  },
  {
   "cell_type": "code",
   "execution_count": 66,
   "metadata": {},
   "outputs": [],
   "source": [
    "data_train[\"Order Time\"] = pd.to_datetime(data_train[\"Order Time\"])\n",
    "e = []\n",
    "for i in range(data_train.shape[0]) : \n",
    "    e.append(data_train[\"Order Time\"][i].hour)\n",
    "e = pd.Series(e)\n",
    "f = []\n",
    "for i in range(data_train.shape[0]) : \n",
    "    if  6 <= e[i] < 12 : \n",
    "        f.append('matin')\n",
    "    elif  12 <= e[i] < 19 : \n",
    "        f.append('après-midi')\n",
    "    elif  19 <= e[i] <= 23: \n",
    "        f.append('nuit')\n",
    "    elif  0 <= e[i] <= 5 : \n",
    "        f.append('nuit')"
   ]
  },
  {
   "cell_type": "code",
   "execution_count": 67,
   "metadata": {},
   "outputs": [],
   "source": [
    "data_train[\"jour\"] = f"
   ]
  },
  {
   "cell_type": "code",
   "execution_count": 68,
   "metadata": {},
   "outputs": [
    {
     "data": {
      "text/html": [
       "<div>\n",
       "<style scoped>\n",
       "    .dataframe tbody tr th:only-of-type {\n",
       "        vertical-align: middle;\n",
       "    }\n",
       "\n",
       "    .dataframe tbody tr th {\n",
       "        vertical-align: top;\n",
       "    }\n",
       "\n",
       "    .dataframe thead th {\n",
       "        text-align: right;\n",
       "    }\n",
       "</style>\n",
       "<table border=\"1\" class=\"dataframe\">\n",
       "  <thead>\n",
       "    <tr style=\"text-align: right;\">\n",
       "      <th></th>\n",
       "      <th>Order ID</th>\n",
       "      <th>Order Status</th>\n",
       "      <th>Category Name</th>\n",
       "      <th>Product Name</th>\n",
       "      <th>Quantity</th>\n",
       "      <th>Unit Price</th>\n",
       "      <th>Total Price</th>\n",
       "      <th>Sub Total</th>\n",
       "      <th>Delivery Charge</th>\n",
       "      <th>Payment Method</th>\n",
       "      <th>Customer ID</th>\n",
       "      <th>Merchant</th>\n",
       "      <th>Order Time</th>\n",
       "      <th>Customer Country</th>\n",
       "      <th>Purchase Again</th>\n",
       "      <th>taux_per_merchant</th>\n",
       "      <th>Delivery Charge 2</th>\n",
       "      <th>test</th>\n",
       "      <th>jour</th>\n",
       "    </tr>\n",
       "  </thead>\n",
       "  <tbody>\n",
       "    <tr>\n",
       "      <th>0</th>\n",
       "      <td>8236617</td>\n",
       "      <td>DEFAULT</td>\n",
       "      <td>Promotions</td>\n",
       "      <td>03 fardeaux Ifri + 1 offert</td>\n",
       "      <td>30</td>\n",
       "      <td>480.0</td>\n",
       "      <td>14400.0</td>\n",
       "      <td>43650.0</td>\n",
       "      <td>200</td>\n",
       "      <td>CASH_PAY</td>\n",
       "      <td>8392354.0</td>\n",
       "      <td>6158523</td>\n",
       "      <td>2021-01-01 00:26:48</td>\n",
       "      <td>Algeria</td>\n",
       "      <td>1</td>\n",
       "      <td>0.316606</td>\n",
       "      <td>3</td>\n",
       "      <td>43650.0</td>\n",
       "      <td>nuit</td>\n",
       "    </tr>\n",
       "    <tr>\n",
       "      <th>1</th>\n",
       "      <td>8236617</td>\n",
       "      <td>DEFAULT</td>\n",
       "      <td>Promotions</td>\n",
       "      <td>3 fardeaux coca achetes = 1 fardeau offert</td>\n",
       "      <td>15</td>\n",
       "      <td>1800.0</td>\n",
       "      <td>27000.0</td>\n",
       "      <td>43650.0</td>\n",
       "      <td>200</td>\n",
       "      <td>CASH_PAY</td>\n",
       "      <td>8392354.0</td>\n",
       "      <td>6158523</td>\n",
       "      <td>2021-01-01 00:26:48</td>\n",
       "      <td>Algeria</td>\n",
       "      <td>1</td>\n",
       "      <td>0.316606</td>\n",
       "      <td>3</td>\n",
       "      <td>43650.0</td>\n",
       "      <td>nuit</td>\n",
       "    </tr>\n",
       "    <tr>\n",
       "      <th>2</th>\n",
       "      <td>8236617</td>\n",
       "      <td>DEFAULT</td>\n",
       "      <td>Promotions</td>\n",
       "      <td>Snickers mini cube 200g</td>\n",
       "      <td>5</td>\n",
       "      <td>450.0</td>\n",
       "      <td>2250.0</td>\n",
       "      <td>43650.0</td>\n",
       "      <td>200</td>\n",
       "      <td>CASH_PAY</td>\n",
       "      <td>8392354.0</td>\n",
       "      <td>6158523</td>\n",
       "      <td>2021-01-01 00:26:48</td>\n",
       "      <td>Algeria</td>\n",
       "      <td>1</td>\n",
       "      <td>0.316606</td>\n",
       "      <td>3</td>\n",
       "      <td>43650.0</td>\n",
       "      <td>nuit</td>\n",
       "    </tr>\n",
       "    <tr>\n",
       "      <th>3</th>\n",
       "      <td>8236624</td>\n",
       "      <td>COMPLETED</td>\n",
       "      <td>Paves</td>\n",
       "      <td>Pave chocolat</td>\n",
       "      <td>3</td>\n",
       "      <td>100.0</td>\n",
       "      <td>300.0</td>\n",
       "      <td>1460.0</td>\n",
       "      <td>700</td>\n",
       "      <td>CARD_PAY</td>\n",
       "      <td>6359544.0</td>\n",
       "      <td>17654385</td>\n",
       "      <td>2021-01-01 00:27:29</td>\n",
       "      <td>Algeria</td>\n",
       "      <td>1</td>\n",
       "      <td>0.464286</td>\n",
       "      <td>3</td>\n",
       "      <td>1460.0</td>\n",
       "      <td>nuit</td>\n",
       "    </tr>\n",
       "    <tr>\n",
       "      <th>4</th>\n",
       "      <td>8236624</td>\n",
       "      <td>COMPLETED</td>\n",
       "      <td>Tartes</td>\n",
       "      <td>Tarte citron</td>\n",
       "      <td>3</td>\n",
       "      <td>100.0</td>\n",
       "      <td>300.0</td>\n",
       "      <td>1460.0</td>\n",
       "      <td>700</td>\n",
       "      <td>CARD_PAY</td>\n",
       "      <td>6359544.0</td>\n",
       "      <td>17654385</td>\n",
       "      <td>2021-01-01 00:27:29</td>\n",
       "      <td>Algeria</td>\n",
       "      <td>1</td>\n",
       "      <td>0.464286</td>\n",
       "      <td>3</td>\n",
       "      <td>1460.0</td>\n",
       "      <td>nuit</td>\n",
       "    </tr>\n",
       "  </tbody>\n",
       "</table>\n",
       "</div>"
      ],
      "text/plain": [
       "   Order ID Order Status Category Name  \\\n",
       "0   8236617      DEFAULT    Promotions   \n",
       "1   8236617      DEFAULT    Promotions   \n",
       "2   8236617      DEFAULT    Promotions   \n",
       "3   8236624    COMPLETED         Paves   \n",
       "4   8236624    COMPLETED        Tartes   \n",
       "\n",
       "                                 Product Name  Quantity  Unit Price  \\\n",
       "0                 03 fardeaux Ifri + 1 offert        30       480.0   \n",
       "1  3 fardeaux coca achetes = 1 fardeau offert        15      1800.0   \n",
       "2                     Snickers mini cube 200g         5       450.0   \n",
       "3                               Pave chocolat         3       100.0   \n",
       "4                                Tarte citron         3       100.0   \n",
       "\n",
       "   Total Price  Sub Total Delivery Charge Payment Method  Customer ID  \\\n",
       "0      14400.0    43650.0             200       CASH_PAY    8392354.0   \n",
       "1      27000.0    43650.0             200       CASH_PAY    8392354.0   \n",
       "2       2250.0    43650.0             200       CASH_PAY    8392354.0   \n",
       "3        300.0     1460.0             700       CARD_PAY    6359544.0   \n",
       "4        300.0     1460.0             700       CARD_PAY    6359544.0   \n",
       "\n",
       "   Merchant          Order Time Customer Country  Purchase Again  \\\n",
       "0   6158523 2021-01-01 00:26:48          Algeria               1   \n",
       "1   6158523 2021-01-01 00:26:48          Algeria               1   \n",
       "2   6158523 2021-01-01 00:26:48          Algeria               1   \n",
       "3  17654385 2021-01-01 00:27:29          Algeria               1   \n",
       "4  17654385 2021-01-01 00:27:29          Algeria               1   \n",
       "\n",
       "   taux_per_merchant  Delivery Charge 2     test  jour  \n",
       "0           0.316606                  3  43650.0  nuit  \n",
       "1           0.316606                  3  43650.0  nuit  \n",
       "2           0.316606                  3  43650.0  nuit  \n",
       "3           0.464286                  3   1460.0  nuit  \n",
       "4           0.464286                  3   1460.0  nuit  "
      ]
     },
     "execution_count": 68,
     "metadata": {},
     "output_type": "execute_result"
    }
   ],
   "source": [
    "data_train.head()"
   ]
  },
  {
   "cell_type": "code",
   "execution_count": 69,
   "metadata": {},
   "outputs": [
    {
     "name": "stdout",
     "output_type": "stream",
     "text": [
      "<class 'pandas.core.frame.DataFrame'>\n",
      "RangeIndex: 17761 entries, 0 to 17760\n",
      "Data columns (total 19 columns):\n",
      " #   Column             Non-Null Count  Dtype         \n",
      "---  ------             --------------  -----         \n",
      " 0   Order ID           17761 non-null  int64         \n",
      " 1   Order Status       17761 non-null  object        \n",
      " 2   Category Name      9093 non-null   object        \n",
      " 3   Product Name       17761 non-null  object        \n",
      " 4   Quantity           17761 non-null  int64         \n",
      " 5   Unit Price         17761 non-null  float64       \n",
      " 6   Total Price        17761 non-null  float64       \n",
      " 7   Sub Total          17761 non-null  float64       \n",
      " 8   Delivery Charge    17761 non-null  object        \n",
      " 9   Payment Method     17761 non-null  object        \n",
      " 10  Customer ID        17263 non-null  float64       \n",
      " 11  Merchant           17761 non-null  int64         \n",
      " 12  Order Time         17761 non-null  datetime64[ns]\n",
      " 13  Customer Country   17761 non-null  object        \n",
      " 14  Purchase Again     17761 non-null  int64         \n",
      " 15  taux_per_merchant  17761 non-null  float64       \n",
      " 16  Delivery Charge 2  17761 non-null  int64         \n",
      " 17  test               17761 non-null  float64       \n",
      " 18  jour               17761 non-null  object        \n",
      "dtypes: datetime64[ns](1), float64(6), int64(5), object(7)\n",
      "memory usage: 2.6+ MB\n"
     ]
    }
   ],
   "source": [
    "data_train.info()"
   ]
  },
  {
   "cell_type": "code",
   "execution_count": 70,
   "metadata": {},
   "outputs": [],
   "source": [
    "data_test[\"Order Time\"] = pd.to_datetime(data_test[\"Order Time\"])\n",
    "e = []\n",
    "for i in range(data_test.shape[0]) : \n",
    "    e.append(data_test[\"Order Time\"][i].hour)\n",
    "e = pd.Series(e)\n",
    "f = []\n",
    "for i in range(data_test.shape[0]) : \n",
    "    if  6 <= e[i] < 12 : \n",
    "        f.append('matin')\n",
    "    elif  12 <= e[i] < 19 : \n",
    "        f.append('après-midi')\n",
    "    elif  19 <= e[i] <= 23: \n",
    "        f.append('nuit')\n",
    "    elif  0 <= e[i] <= 5 : \n",
    "        f.append('nuit')"
   ]
  },
  {
   "cell_type": "code",
   "execution_count": 71,
   "metadata": {},
   "outputs": [],
   "source": [
    "data_test[\"jour\"] = f"
   ]
  },
  {
   "cell_type": "code",
   "execution_count": 72,
   "metadata": {},
   "outputs": [
    {
     "data": {
      "text/html": [
       "<div>\n",
       "<style scoped>\n",
       "    .dataframe tbody tr th:only-of-type {\n",
       "        vertical-align: middle;\n",
       "    }\n",
       "\n",
       "    .dataframe tbody tr th {\n",
       "        vertical-align: top;\n",
       "    }\n",
       "\n",
       "    .dataframe thead th {\n",
       "        text-align: right;\n",
       "    }\n",
       "</style>\n",
       "<table border=\"1\" class=\"dataframe\">\n",
       "  <thead>\n",
       "    <tr style=\"text-align: right;\">\n",
       "      <th></th>\n",
       "      <th>Order ID</th>\n",
       "      <th>Order Status</th>\n",
       "      <th>Category Name</th>\n",
       "      <th>Product Name</th>\n",
       "      <th>Quantity</th>\n",
       "      <th>Unit Price</th>\n",
       "      <th>Total Price</th>\n",
       "      <th>Sub Total</th>\n",
       "      <th>Delivery Charge</th>\n",
       "      <th>Payment Method</th>\n",
       "      <th>Customer ID</th>\n",
       "      <th>Merchant</th>\n",
       "      <th>Order Time</th>\n",
       "      <th>Customer Country</th>\n",
       "      <th>Delivery Charge 2</th>\n",
       "      <th>test</th>\n",
       "      <th>jour</th>\n",
       "    </tr>\n",
       "  </thead>\n",
       "  <tbody>\n",
       "    <tr>\n",
       "      <th>0</th>\n",
       "      <td>8236741</td>\n",
       "      <td>COMPLETED</td>\n",
       "      <td>Chocolat</td>\n",
       "      <td>NUTELLA 750g</td>\n",
       "      <td>2</td>\n",
       "      <td>1390.0</td>\n",
       "      <td>2780.0</td>\n",
       "      <td>4740.0</td>\n",
       "      <td>550</td>\n",
       "      <td>CARD_PAY</td>\n",
       "      <td>8392444.0</td>\n",
       "      <td>7225386</td>\n",
       "      <td>2021-01-01 00:40:42</td>\n",
       "      <td>Algeria</td>\n",
       "      <td>3</td>\n",
       "      <td>4740.0</td>\n",
       "      <td>nuit</td>\n",
       "    </tr>\n",
       "    <tr>\n",
       "      <th>1</th>\n",
       "      <td>8236741</td>\n",
       "      <td>COMPLETED</td>\n",
       "      <td>Chocolat</td>\n",
       "      <td>MILKA chocolat extra cacao 100g</td>\n",
       "      <td>1</td>\n",
       "      <td>210.0</td>\n",
       "      <td>210.0</td>\n",
       "      <td>4740.0</td>\n",
       "      <td>550</td>\n",
       "      <td>CARD_PAY</td>\n",
       "      <td>8392444.0</td>\n",
       "      <td>7225386</td>\n",
       "      <td>2021-01-01 00:40:42</td>\n",
       "      <td>Algeria</td>\n",
       "      <td>3</td>\n",
       "      <td>4740.0</td>\n",
       "      <td>nuit</td>\n",
       "    </tr>\n",
       "    <tr>\n",
       "      <th>2</th>\n",
       "      <td>8236741</td>\n",
       "      <td>COMPLETED</td>\n",
       "      <td>Chocolat</td>\n",
       "      <td>MILKA strawberry 100g</td>\n",
       "      <td>1</td>\n",
       "      <td>210.0</td>\n",
       "      <td>210.0</td>\n",
       "      <td>4740.0</td>\n",
       "      <td>550</td>\n",
       "      <td>CARD_PAY</td>\n",
       "      <td>8392444.0</td>\n",
       "      <td>7225386</td>\n",
       "      <td>2021-01-01 00:40:42</td>\n",
       "      <td>Algeria</td>\n",
       "      <td>3</td>\n",
       "      <td>4740.0</td>\n",
       "      <td>nuit</td>\n",
       "    </tr>\n",
       "    <tr>\n",
       "      <th>3</th>\n",
       "      <td>8236741</td>\n",
       "      <td>COMPLETED</td>\n",
       "      <td>Chocolat</td>\n",
       "      <td>LINDT les grandes noisette</td>\n",
       "      <td>1</td>\n",
       "      <td>900.0</td>\n",
       "      <td>900.0</td>\n",
       "      <td>4740.0</td>\n",
       "      <td>550</td>\n",
       "      <td>CARD_PAY</td>\n",
       "      <td>8392444.0</td>\n",
       "      <td>7225386</td>\n",
       "      <td>2021-01-01 00:40:42</td>\n",
       "      <td>Algeria</td>\n",
       "      <td>3</td>\n",
       "      <td>4740.0</td>\n",
       "      <td>nuit</td>\n",
       "    </tr>\n",
       "    <tr>\n",
       "      <th>4</th>\n",
       "      <td>8236741</td>\n",
       "      <td>COMPLETED</td>\n",
       "      <td>Boisson</td>\n",
       "      <td>IFRI eau minerale 1.5l x 6</td>\n",
       "      <td>2</td>\n",
       "      <td>170.0</td>\n",
       "      <td>340.0</td>\n",
       "      <td>4740.0</td>\n",
       "      <td>550</td>\n",
       "      <td>CARD_PAY</td>\n",
       "      <td>8392444.0</td>\n",
       "      <td>7225386</td>\n",
       "      <td>2021-01-01 00:40:42</td>\n",
       "      <td>Algeria</td>\n",
       "      <td>3</td>\n",
       "      <td>4740.0</td>\n",
       "      <td>nuit</td>\n",
       "    </tr>\n",
       "    <tr>\n",
       "      <th>...</th>\n",
       "      <td>...</td>\n",
       "      <td>...</td>\n",
       "      <td>...</td>\n",
       "      <td>...</td>\n",
       "      <td>...</td>\n",
       "      <td>...</td>\n",
       "      <td>...</td>\n",
       "      <td>...</td>\n",
       "      <td>...</td>\n",
       "      <td>...</td>\n",
       "      <td>...</td>\n",
       "      <td>...</td>\n",
       "      <td>...</td>\n",
       "      <td>...</td>\n",
       "      <td>...</td>\n",
       "      <td>...</td>\n",
       "      <td>...</td>\n",
       "    </tr>\n",
       "    <tr>\n",
       "      <th>95</th>\n",
       "      <td>8242031</td>\n",
       "      <td>COMPLETED</td>\n",
       "      <td>Fruits secs</td>\n",
       "      <td>DK KHEYAR noix decortiquees 250g</td>\n",
       "      <td>1</td>\n",
       "      <td>475.0</td>\n",
       "      <td>475.0</td>\n",
       "      <td>31255.0</td>\n",
       "      <td>200</td>\n",
       "      <td>CASH_PAY</td>\n",
       "      <td>6429006.0</td>\n",
       "      <td>6158523</td>\n",
       "      <td>2021-01-01 10:41:15</td>\n",
       "      <td>Algeria</td>\n",
       "      <td>3</td>\n",
       "      <td>31255.0</td>\n",
       "      <td>matin</td>\n",
       "    </tr>\n",
       "    <tr>\n",
       "      <th>96</th>\n",
       "      <td>8242031</td>\n",
       "      <td>COMPLETED</td>\n",
       "      <td>Fruits secs</td>\n",
       "      <td>DK KHEYAR cacahouÃ¨tes salees 250g</td>\n",
       "      <td>2</td>\n",
       "      <td>140.0</td>\n",
       "      <td>280.0</td>\n",
       "      <td>31255.0</td>\n",
       "      <td>200</td>\n",
       "      <td>CASH_PAY</td>\n",
       "      <td>6429006.0</td>\n",
       "      <td>6158523</td>\n",
       "      <td>2021-01-01 10:41:15</td>\n",
       "      <td>Algeria</td>\n",
       "      <td>3</td>\n",
       "      <td>31255.0</td>\n",
       "      <td>matin</td>\n",
       "    </tr>\n",
       "    <tr>\n",
       "      <th>97</th>\n",
       "      <td>8242031</td>\n",
       "      <td>COMPLETED</td>\n",
       "      <td>Petit-dejeuner</td>\n",
       "      <td>NESTLE Chocapic cereales 375gr</td>\n",
       "      <td>5</td>\n",
       "      <td>825.0</td>\n",
       "      <td>4125.0</td>\n",
       "      <td>31255.0</td>\n",
       "      <td>200</td>\n",
       "      <td>CASH_PAY</td>\n",
       "      <td>6429006.0</td>\n",
       "      <td>6158523</td>\n",
       "      <td>2021-01-01 10:41:15</td>\n",
       "      <td>Algeria</td>\n",
       "      <td>3</td>\n",
       "      <td>31255.0</td>\n",
       "      <td>matin</td>\n",
       "    </tr>\n",
       "    <tr>\n",
       "      <th>98</th>\n",
       "      <td>8242031</td>\n",
       "      <td>COMPLETED</td>\n",
       "      <td>Pates et riz</td>\n",
       "      <td>PANZANI cannelloni 250g</td>\n",
       "      <td>4</td>\n",
       "      <td>175.0</td>\n",
       "      <td>700.0</td>\n",
       "      <td>31255.0</td>\n",
       "      <td>200</td>\n",
       "      <td>CASH_PAY</td>\n",
       "      <td>6429006.0</td>\n",
       "      <td>6158523</td>\n",
       "      <td>2021-01-01 10:41:15</td>\n",
       "      <td>Algeria</td>\n",
       "      <td>3</td>\n",
       "      <td>31255.0</td>\n",
       "      <td>matin</td>\n",
       "    </tr>\n",
       "    <tr>\n",
       "      <th>99</th>\n",
       "      <td>8242031</td>\n",
       "      <td>COMPLETED</td>\n",
       "      <td>Pates et riz</td>\n",
       "      <td>AMOR BENAMOR torsades 500g</td>\n",
       "      <td>4</td>\n",
       "      <td>80.0</td>\n",
       "      <td>320.0</td>\n",
       "      <td>31255.0</td>\n",
       "      <td>200</td>\n",
       "      <td>CASH_PAY</td>\n",
       "      <td>6429006.0</td>\n",
       "      <td>6158523</td>\n",
       "      <td>2021-01-01 10:41:15</td>\n",
       "      <td>Algeria</td>\n",
       "      <td>3</td>\n",
       "      <td>31255.0</td>\n",
       "      <td>matin</td>\n",
       "    </tr>\n",
       "  </tbody>\n",
       "</table>\n",
       "<p>100 rows × 17 columns</p>\n",
       "</div>"
      ],
      "text/plain": [
       "    Order ID Order Status   Category Name                        Product Name  \\\n",
       "0    8236741    COMPLETED        Chocolat                        NUTELLA 750g   \n",
       "1    8236741    COMPLETED        Chocolat     MILKA chocolat extra cacao 100g   \n",
       "2    8236741    COMPLETED        Chocolat               MILKA strawberry 100g   \n",
       "3    8236741    COMPLETED        Chocolat          LINDT les grandes noisette   \n",
       "4    8236741    COMPLETED         Boisson          IFRI eau minerale 1.5l x 6   \n",
       "..       ...          ...             ...                                 ...   \n",
       "95   8242031    COMPLETED     Fruits secs    DK KHEYAR noix decortiquees 250g   \n",
       "96   8242031    COMPLETED     Fruits secs  DK KHEYAR cacahouÃ¨tes salees 250g   \n",
       "97   8242031    COMPLETED  Petit-dejeuner      NESTLE Chocapic cereales 375gr   \n",
       "98   8242031    COMPLETED    Pates et riz             PANZANI cannelloni 250g   \n",
       "99   8242031    COMPLETED    Pates et riz          AMOR BENAMOR torsades 500g   \n",
       "\n",
       "    Quantity  Unit Price  Total Price  Sub Total Delivery Charge  \\\n",
       "0          2      1390.0       2780.0     4740.0             550   \n",
       "1          1       210.0        210.0     4740.0             550   \n",
       "2          1       210.0        210.0     4740.0             550   \n",
       "3          1       900.0        900.0     4740.0             550   \n",
       "4          2       170.0        340.0     4740.0             550   \n",
       "..       ...         ...          ...        ...             ...   \n",
       "95         1       475.0        475.0    31255.0             200   \n",
       "96         2       140.0        280.0    31255.0             200   \n",
       "97         5       825.0       4125.0    31255.0             200   \n",
       "98         4       175.0        700.0    31255.0             200   \n",
       "99         4        80.0        320.0    31255.0             200   \n",
       "\n",
       "   Payment Method  Customer ID  Merchant          Order Time Customer Country  \\\n",
       "0        CARD_PAY    8392444.0   7225386 2021-01-01 00:40:42          Algeria   \n",
       "1        CARD_PAY    8392444.0   7225386 2021-01-01 00:40:42          Algeria   \n",
       "2        CARD_PAY    8392444.0   7225386 2021-01-01 00:40:42          Algeria   \n",
       "3        CARD_PAY    8392444.0   7225386 2021-01-01 00:40:42          Algeria   \n",
       "4        CARD_PAY    8392444.0   7225386 2021-01-01 00:40:42          Algeria   \n",
       "..            ...          ...       ...                 ...              ...   \n",
       "95       CASH_PAY    6429006.0   6158523 2021-01-01 10:41:15          Algeria   \n",
       "96       CASH_PAY    6429006.0   6158523 2021-01-01 10:41:15          Algeria   \n",
       "97       CASH_PAY    6429006.0   6158523 2021-01-01 10:41:15          Algeria   \n",
       "98       CASH_PAY    6429006.0   6158523 2021-01-01 10:41:15          Algeria   \n",
       "99       CASH_PAY    6429006.0   6158523 2021-01-01 10:41:15          Algeria   \n",
       "\n",
       "    Delivery Charge 2     test   jour  \n",
       "0                   3   4740.0   nuit  \n",
       "1                   3   4740.0   nuit  \n",
       "2                   3   4740.0   nuit  \n",
       "3                   3   4740.0   nuit  \n",
       "4                   3   4740.0   nuit  \n",
       "..                ...      ...    ...  \n",
       "95                  3  31255.0  matin  \n",
       "96                  3  31255.0  matin  \n",
       "97                  3  31255.0  matin  \n",
       "98                  3  31255.0  matin  \n",
       "99                  3  31255.0  matin  \n",
       "\n",
       "[100 rows x 17 columns]"
      ]
     },
     "execution_count": 72,
     "metadata": {},
     "output_type": "execute_result"
    }
   ],
   "source": [
    "data_test.head(n=100)"
   ]
  },
  {
   "cell_type": "code",
   "execution_count": 73,
   "metadata": {},
   "outputs": [
    {
     "name": "stdout",
     "output_type": "stream",
     "text": [
      "<class 'pandas.core.frame.DataFrame'>\n",
      "RangeIndex: 12013 entries, 0 to 12012\n",
      "Data columns (total 17 columns):\n",
      " #   Column             Non-Null Count  Dtype         \n",
      "---  ------             --------------  -----         \n",
      " 0   Order ID           12013 non-null  int64         \n",
      " 1   Order Status       12013 non-null  object        \n",
      " 2   Category Name      5999 non-null   object        \n",
      " 3   Product Name       12013 non-null  object        \n",
      " 4   Quantity           12013 non-null  int64         \n",
      " 5   Unit Price         12013 non-null  float64       \n",
      " 6   Total Price        12013 non-null  float64       \n",
      " 7   Sub Total          12013 non-null  float64       \n",
      " 8   Delivery Charge    12013 non-null  object        \n",
      " 9   Payment Method     12013 non-null  object        \n",
      " 10  Customer ID        12013 non-null  float64       \n",
      " 11  Merchant           12013 non-null  int64         \n",
      " 12  Order Time         12013 non-null  datetime64[ns]\n",
      " 13  Customer Country   12013 non-null  object        \n",
      " 14  Delivery Charge 2  12013 non-null  int64         \n",
      " 15  test               12013 non-null  float64       \n",
      " 16  jour               12013 non-null  object        \n",
      "dtypes: datetime64[ns](1), float64(5), int64(4), object(7)\n",
      "memory usage: 1.6+ MB\n"
     ]
    }
   ],
   "source": [
    "data_test.info()"
   ]
  },
  {
   "cell_type": "code",
   "execution_count": 74,
   "metadata": {},
   "outputs": [
    {
     "name": "stdout",
     "output_type": "stream",
     "text": [
      "999\n",
      "2212\n",
      "2208\n"
     ]
    }
   ],
   "source": [
    "print(len(data_train[\"Customer ID\"].value_counts()))\n",
    "print(len(data_train[\"Order ID\"].value_counts()))\n",
    "print(len(data_train[\"Order Time\"].value_counts()))"
   ]
  },
  {
   "cell_type": "code",
   "execution_count": 75,
   "metadata": {},
   "outputs": [
    {
     "name": "stdout",
     "output_type": "stream",
     "text": [
      "767\n",
      "1442\n",
      "1441\n"
     ]
    }
   ],
   "source": [
    "print(len(data_test[\"Customer ID\"].value_counts()))\n",
    "print(len(data_test[\"Order ID\"].value_counts()))\n",
    "print(len(data_test[\"Order Time\"].value_counts()))"
   ]
  },
  {
   "cell_type": "code",
   "execution_count": 76,
   "metadata": {},
   "outputs": [],
   "source": [
    "data_train = data_train.drop('Order ID',axis = 1)"
   ]
  },
  {
   "cell_type": "code",
   "execution_count": 77,
   "metadata": {},
   "outputs": [],
   "source": [
    "data_train = data_train.drop('Product Name',axis = 1)\n",
    "data_train = data_train.drop('Category Name',axis = 1)\n",
    "data_train = data_train.drop('Customer ID',axis = 1)\n",
    "data_train= data_train.drop('Delivery Charge 2',axis = 1)\n",
    "data_train = data_train.drop('test',axis = 1)"
   ]
  },
  {
   "cell_type": "code",
   "execution_count": 78,
   "metadata": {},
   "outputs": [],
   "source": [
    "data_test = data_test.drop('Product Name',axis = 1)\n",
    "data_test = data_test.drop('Category Name',axis = 1)\n",
    "data_test= data_test.drop('Delivery Charge 2',axis = 1)\n",
    "data_test = data_test.drop('test',axis = 1)"
   ]
  },
  {
   "cell_type": "code",
   "execution_count": 79,
   "metadata": {},
   "outputs": [
    {
     "data": {
      "text/html": [
       "<div>\n",
       "<style scoped>\n",
       "    .dataframe tbody tr th:only-of-type {\n",
       "        vertical-align: middle;\n",
       "    }\n",
       "\n",
       "    .dataframe tbody tr th {\n",
       "        vertical-align: top;\n",
       "    }\n",
       "\n",
       "    .dataframe thead th {\n",
       "        text-align: right;\n",
       "    }\n",
       "</style>\n",
       "<table border=\"1\" class=\"dataframe\">\n",
       "  <thead>\n",
       "    <tr style=\"text-align: right;\">\n",
       "      <th></th>\n",
       "      <th>Order ID</th>\n",
       "      <th>Order Status</th>\n",
       "      <th>Quantity</th>\n",
       "      <th>Unit Price</th>\n",
       "      <th>Total Price</th>\n",
       "      <th>Sub Total</th>\n",
       "      <th>Delivery Charge</th>\n",
       "      <th>Payment Method</th>\n",
       "      <th>Customer ID</th>\n",
       "      <th>Merchant</th>\n",
       "      <th>Order Time</th>\n",
       "      <th>Customer Country</th>\n",
       "      <th>jour</th>\n",
       "    </tr>\n",
       "  </thead>\n",
       "  <tbody>\n",
       "    <tr>\n",
       "      <th>0</th>\n",
       "      <td>8236741</td>\n",
       "      <td>COMPLETED</td>\n",
       "      <td>2</td>\n",
       "      <td>1390.0</td>\n",
       "      <td>2780.0</td>\n",
       "      <td>4740.0</td>\n",
       "      <td>550</td>\n",
       "      <td>CARD_PAY</td>\n",
       "      <td>8392444.0</td>\n",
       "      <td>7225386</td>\n",
       "      <td>2021-01-01 00:40:42</td>\n",
       "      <td>Algeria</td>\n",
       "      <td>nuit</td>\n",
       "    </tr>\n",
       "    <tr>\n",
       "      <th>1</th>\n",
       "      <td>8236741</td>\n",
       "      <td>COMPLETED</td>\n",
       "      <td>1</td>\n",
       "      <td>210.0</td>\n",
       "      <td>210.0</td>\n",
       "      <td>4740.0</td>\n",
       "      <td>550</td>\n",
       "      <td>CARD_PAY</td>\n",
       "      <td>8392444.0</td>\n",
       "      <td>7225386</td>\n",
       "      <td>2021-01-01 00:40:42</td>\n",
       "      <td>Algeria</td>\n",
       "      <td>nuit</td>\n",
       "    </tr>\n",
       "    <tr>\n",
       "      <th>2</th>\n",
       "      <td>8236741</td>\n",
       "      <td>COMPLETED</td>\n",
       "      <td>1</td>\n",
       "      <td>210.0</td>\n",
       "      <td>210.0</td>\n",
       "      <td>4740.0</td>\n",
       "      <td>550</td>\n",
       "      <td>CARD_PAY</td>\n",
       "      <td>8392444.0</td>\n",
       "      <td>7225386</td>\n",
       "      <td>2021-01-01 00:40:42</td>\n",
       "      <td>Algeria</td>\n",
       "      <td>nuit</td>\n",
       "    </tr>\n",
       "    <tr>\n",
       "      <th>3</th>\n",
       "      <td>8236741</td>\n",
       "      <td>COMPLETED</td>\n",
       "      <td>1</td>\n",
       "      <td>900.0</td>\n",
       "      <td>900.0</td>\n",
       "      <td>4740.0</td>\n",
       "      <td>550</td>\n",
       "      <td>CARD_PAY</td>\n",
       "      <td>8392444.0</td>\n",
       "      <td>7225386</td>\n",
       "      <td>2021-01-01 00:40:42</td>\n",
       "      <td>Algeria</td>\n",
       "      <td>nuit</td>\n",
       "    </tr>\n",
       "    <tr>\n",
       "      <th>4</th>\n",
       "      <td>8236741</td>\n",
       "      <td>COMPLETED</td>\n",
       "      <td>2</td>\n",
       "      <td>170.0</td>\n",
       "      <td>340.0</td>\n",
       "      <td>4740.0</td>\n",
       "      <td>550</td>\n",
       "      <td>CARD_PAY</td>\n",
       "      <td>8392444.0</td>\n",
       "      <td>7225386</td>\n",
       "      <td>2021-01-01 00:40:42</td>\n",
       "      <td>Algeria</td>\n",
       "      <td>nuit</td>\n",
       "    </tr>\n",
       "    <tr>\n",
       "      <th>...</th>\n",
       "      <td>...</td>\n",
       "      <td>...</td>\n",
       "      <td>...</td>\n",
       "      <td>...</td>\n",
       "      <td>...</td>\n",
       "      <td>...</td>\n",
       "      <td>...</td>\n",
       "      <td>...</td>\n",
       "      <td>...</td>\n",
       "      <td>...</td>\n",
       "      <td>...</td>\n",
       "      <td>...</td>\n",
       "      <td>...</td>\n",
       "    </tr>\n",
       "    <tr>\n",
       "      <th>95</th>\n",
       "      <td>8242031</td>\n",
       "      <td>COMPLETED</td>\n",
       "      <td>1</td>\n",
       "      <td>475.0</td>\n",
       "      <td>475.0</td>\n",
       "      <td>31255.0</td>\n",
       "      <td>200</td>\n",
       "      <td>CASH_PAY</td>\n",
       "      <td>6429006.0</td>\n",
       "      <td>6158523</td>\n",
       "      <td>2021-01-01 10:41:15</td>\n",
       "      <td>Algeria</td>\n",
       "      <td>matin</td>\n",
       "    </tr>\n",
       "    <tr>\n",
       "      <th>96</th>\n",
       "      <td>8242031</td>\n",
       "      <td>COMPLETED</td>\n",
       "      <td>2</td>\n",
       "      <td>140.0</td>\n",
       "      <td>280.0</td>\n",
       "      <td>31255.0</td>\n",
       "      <td>200</td>\n",
       "      <td>CASH_PAY</td>\n",
       "      <td>6429006.0</td>\n",
       "      <td>6158523</td>\n",
       "      <td>2021-01-01 10:41:15</td>\n",
       "      <td>Algeria</td>\n",
       "      <td>matin</td>\n",
       "    </tr>\n",
       "    <tr>\n",
       "      <th>97</th>\n",
       "      <td>8242031</td>\n",
       "      <td>COMPLETED</td>\n",
       "      <td>5</td>\n",
       "      <td>825.0</td>\n",
       "      <td>4125.0</td>\n",
       "      <td>31255.0</td>\n",
       "      <td>200</td>\n",
       "      <td>CASH_PAY</td>\n",
       "      <td>6429006.0</td>\n",
       "      <td>6158523</td>\n",
       "      <td>2021-01-01 10:41:15</td>\n",
       "      <td>Algeria</td>\n",
       "      <td>matin</td>\n",
       "    </tr>\n",
       "    <tr>\n",
       "      <th>98</th>\n",
       "      <td>8242031</td>\n",
       "      <td>COMPLETED</td>\n",
       "      <td>4</td>\n",
       "      <td>175.0</td>\n",
       "      <td>700.0</td>\n",
       "      <td>31255.0</td>\n",
       "      <td>200</td>\n",
       "      <td>CASH_PAY</td>\n",
       "      <td>6429006.0</td>\n",
       "      <td>6158523</td>\n",
       "      <td>2021-01-01 10:41:15</td>\n",
       "      <td>Algeria</td>\n",
       "      <td>matin</td>\n",
       "    </tr>\n",
       "    <tr>\n",
       "      <th>99</th>\n",
       "      <td>8242031</td>\n",
       "      <td>COMPLETED</td>\n",
       "      <td>4</td>\n",
       "      <td>80.0</td>\n",
       "      <td>320.0</td>\n",
       "      <td>31255.0</td>\n",
       "      <td>200</td>\n",
       "      <td>CASH_PAY</td>\n",
       "      <td>6429006.0</td>\n",
       "      <td>6158523</td>\n",
       "      <td>2021-01-01 10:41:15</td>\n",
       "      <td>Algeria</td>\n",
       "      <td>matin</td>\n",
       "    </tr>\n",
       "  </tbody>\n",
       "</table>\n",
       "<p>100 rows × 13 columns</p>\n",
       "</div>"
      ],
      "text/plain": [
       "    Order ID Order Status  Quantity  Unit Price  Total Price  Sub Total  \\\n",
       "0    8236741    COMPLETED         2      1390.0       2780.0     4740.0   \n",
       "1    8236741    COMPLETED         1       210.0        210.0     4740.0   \n",
       "2    8236741    COMPLETED         1       210.0        210.0     4740.0   \n",
       "3    8236741    COMPLETED         1       900.0        900.0     4740.0   \n",
       "4    8236741    COMPLETED         2       170.0        340.0     4740.0   \n",
       "..       ...          ...       ...         ...          ...        ...   \n",
       "95   8242031    COMPLETED         1       475.0        475.0    31255.0   \n",
       "96   8242031    COMPLETED         2       140.0        280.0    31255.0   \n",
       "97   8242031    COMPLETED         5       825.0       4125.0    31255.0   \n",
       "98   8242031    COMPLETED         4       175.0        700.0    31255.0   \n",
       "99   8242031    COMPLETED         4        80.0        320.0    31255.0   \n",
       "\n",
       "   Delivery Charge Payment Method  Customer ID  Merchant          Order Time  \\\n",
       "0              550       CARD_PAY    8392444.0   7225386 2021-01-01 00:40:42   \n",
       "1              550       CARD_PAY    8392444.0   7225386 2021-01-01 00:40:42   \n",
       "2              550       CARD_PAY    8392444.0   7225386 2021-01-01 00:40:42   \n",
       "3              550       CARD_PAY    8392444.0   7225386 2021-01-01 00:40:42   \n",
       "4              550       CARD_PAY    8392444.0   7225386 2021-01-01 00:40:42   \n",
       "..             ...            ...          ...       ...                 ...   \n",
       "95             200       CASH_PAY    6429006.0   6158523 2021-01-01 10:41:15   \n",
       "96             200       CASH_PAY    6429006.0   6158523 2021-01-01 10:41:15   \n",
       "97             200       CASH_PAY    6429006.0   6158523 2021-01-01 10:41:15   \n",
       "98             200       CASH_PAY    6429006.0   6158523 2021-01-01 10:41:15   \n",
       "99             200       CASH_PAY    6429006.0   6158523 2021-01-01 10:41:15   \n",
       "\n",
       "   Customer Country   jour  \n",
       "0           Algeria   nuit  \n",
       "1           Algeria   nuit  \n",
       "2           Algeria   nuit  \n",
       "3           Algeria   nuit  \n",
       "4           Algeria   nuit  \n",
       "..              ...    ...  \n",
       "95          Algeria  matin  \n",
       "96          Algeria  matin  \n",
       "97          Algeria  matin  \n",
       "98          Algeria  matin  \n",
       "99          Algeria  matin  \n",
       "\n",
       "[100 rows x 13 columns]"
      ]
     },
     "execution_count": 79,
     "metadata": {},
     "output_type": "execute_result"
    }
   ],
   "source": [
    "data_test.head(n=100)"
   ]
  },
  {
   "cell_type": "code",
   "execution_count": 80,
   "metadata": {},
   "outputs": [
    {
     "data": {
      "text/html": [
       "<div>\n",
       "<style scoped>\n",
       "    .dataframe tbody tr th:only-of-type {\n",
       "        vertical-align: middle;\n",
       "    }\n",
       "\n",
       "    .dataframe tbody tr th {\n",
       "        vertical-align: top;\n",
       "    }\n",
       "\n",
       "    .dataframe thead th {\n",
       "        text-align: right;\n",
       "    }\n",
       "</style>\n",
       "<table border=\"1\" class=\"dataframe\">\n",
       "  <thead>\n",
       "    <tr style=\"text-align: right;\">\n",
       "      <th></th>\n",
       "      <th>Order Status</th>\n",
       "      <th>Quantity</th>\n",
       "      <th>Unit Price</th>\n",
       "      <th>Total Price</th>\n",
       "      <th>Sub Total</th>\n",
       "      <th>Delivery Charge</th>\n",
       "      <th>Payment Method</th>\n",
       "      <th>Merchant</th>\n",
       "      <th>Order Time</th>\n",
       "      <th>Customer Country</th>\n",
       "      <th>Purchase Again</th>\n",
       "      <th>taux_per_merchant</th>\n",
       "      <th>jour</th>\n",
       "    </tr>\n",
       "  </thead>\n",
       "  <tbody>\n",
       "    <tr>\n",
       "      <th>0</th>\n",
       "      <td>DEFAULT</td>\n",
       "      <td>30</td>\n",
       "      <td>480.0</td>\n",
       "      <td>14400.0</td>\n",
       "      <td>43650.0</td>\n",
       "      <td>200</td>\n",
       "      <td>CASH_PAY</td>\n",
       "      <td>6158523</td>\n",
       "      <td>2021-01-01 00:26:48</td>\n",
       "      <td>Algeria</td>\n",
       "      <td>1</td>\n",
       "      <td>0.316606</td>\n",
       "      <td>nuit</td>\n",
       "    </tr>\n",
       "    <tr>\n",
       "      <th>1</th>\n",
       "      <td>DEFAULT</td>\n",
       "      <td>15</td>\n",
       "      <td>1800.0</td>\n",
       "      <td>27000.0</td>\n",
       "      <td>43650.0</td>\n",
       "      <td>200</td>\n",
       "      <td>CASH_PAY</td>\n",
       "      <td>6158523</td>\n",
       "      <td>2021-01-01 00:26:48</td>\n",
       "      <td>Algeria</td>\n",
       "      <td>1</td>\n",
       "      <td>0.316606</td>\n",
       "      <td>nuit</td>\n",
       "    </tr>\n",
       "    <tr>\n",
       "      <th>2</th>\n",
       "      <td>DEFAULT</td>\n",
       "      <td>5</td>\n",
       "      <td>450.0</td>\n",
       "      <td>2250.0</td>\n",
       "      <td>43650.0</td>\n",
       "      <td>200</td>\n",
       "      <td>CASH_PAY</td>\n",
       "      <td>6158523</td>\n",
       "      <td>2021-01-01 00:26:48</td>\n",
       "      <td>Algeria</td>\n",
       "      <td>1</td>\n",
       "      <td>0.316606</td>\n",
       "      <td>nuit</td>\n",
       "    </tr>\n",
       "    <tr>\n",
       "      <th>3</th>\n",
       "      <td>COMPLETED</td>\n",
       "      <td>3</td>\n",
       "      <td>100.0</td>\n",
       "      <td>300.0</td>\n",
       "      <td>1460.0</td>\n",
       "      <td>700</td>\n",
       "      <td>CARD_PAY</td>\n",
       "      <td>17654385</td>\n",
       "      <td>2021-01-01 00:27:29</td>\n",
       "      <td>Algeria</td>\n",
       "      <td>1</td>\n",
       "      <td>0.464286</td>\n",
       "      <td>nuit</td>\n",
       "    </tr>\n",
       "    <tr>\n",
       "      <th>4</th>\n",
       "      <td>COMPLETED</td>\n",
       "      <td>3</td>\n",
       "      <td>100.0</td>\n",
       "      <td>300.0</td>\n",
       "      <td>1460.0</td>\n",
       "      <td>700</td>\n",
       "      <td>CARD_PAY</td>\n",
       "      <td>17654385</td>\n",
       "      <td>2021-01-01 00:27:29</td>\n",
       "      <td>Algeria</td>\n",
       "      <td>1</td>\n",
       "      <td>0.464286</td>\n",
       "      <td>nuit</td>\n",
       "    </tr>\n",
       "  </tbody>\n",
       "</table>\n",
       "</div>"
      ],
      "text/plain": [
       "  Order Status  Quantity  Unit Price  Total Price  Sub Total Delivery Charge  \\\n",
       "0      DEFAULT        30       480.0      14400.0    43650.0             200   \n",
       "1      DEFAULT        15      1800.0      27000.0    43650.0             200   \n",
       "2      DEFAULT         5       450.0       2250.0    43650.0             200   \n",
       "3    COMPLETED         3       100.0        300.0     1460.0             700   \n",
       "4    COMPLETED         3       100.0        300.0     1460.0             700   \n",
       "\n",
       "  Payment Method  Merchant          Order Time Customer Country  \\\n",
       "0       CASH_PAY   6158523 2021-01-01 00:26:48          Algeria   \n",
       "1       CASH_PAY   6158523 2021-01-01 00:26:48          Algeria   \n",
       "2       CASH_PAY   6158523 2021-01-01 00:26:48          Algeria   \n",
       "3       CARD_PAY  17654385 2021-01-01 00:27:29          Algeria   \n",
       "4       CARD_PAY  17654385 2021-01-01 00:27:29          Algeria   \n",
       "\n",
       "   Purchase Again  taux_per_merchant  jour  \n",
       "0               1           0.316606  nuit  \n",
       "1               1           0.316606  nuit  \n",
       "2               1           0.316606  nuit  \n",
       "3               1           0.464286  nuit  \n",
       "4               1           0.464286  nuit  "
      ]
     },
     "execution_count": 80,
     "metadata": {},
     "output_type": "execute_result"
    }
   ],
   "source": [
    "data_train.head()"
   ]
  },
  {
   "cell_type": "code",
   "execution_count": 81,
   "metadata": {},
   "outputs": [
    {
     "data": {
      "text/plain": [
       "<AxesSubplot:>"
      ]
     },
     "execution_count": 81,
     "metadata": {},
     "output_type": "execute_result"
    },
    {
     "data": {
      "image/png": "[encoded data removed]",
      "text/plain": [
       "<Figure size 720x720 with 2 Axes>"
      ]
     },
     "metadata": {
      "needs_background": "light"
     },
     "output_type": "display_data"
    }
   ],
   "source": [
    "plt.figure(figsize = (10,10))\n",
    "sns.heatmap(data_train.corr(),annot = True,cmap='coolwarm')"
   ]
  },
  {
   "cell_type": "code",
   "execution_count": 82,
   "metadata": {},
   "outputs": [
    {
     "data": {
      "text/html": [
       "<div>\n",
       "<style scoped>\n",
       "    .dataframe tbody tr th:only-of-type {\n",
       "        vertical-align: middle;\n",
       "    }\n",
       "\n",
       "    .dataframe tbody tr th {\n",
       "        vertical-align: top;\n",
       "    }\n",
       "\n",
       "    .dataframe thead th {\n",
       "        text-align: right;\n",
       "    }\n",
       "</style>\n",
       "<table border=\"1\" class=\"dataframe\">\n",
       "  <thead>\n",
       "    <tr style=\"text-align: right;\">\n",
       "      <th></th>\n",
       "      <th>Order Status</th>\n",
       "      <th>Quantity</th>\n",
       "      <th>Unit Price</th>\n",
       "      <th>Total Price</th>\n",
       "      <th>Sub Total</th>\n",
       "      <th>Delivery Charge</th>\n",
       "      <th>Payment Method</th>\n",
       "      <th>Merchant</th>\n",
       "      <th>Order Time</th>\n",
       "      <th>Customer Country</th>\n",
       "      <th>Purchase Again</th>\n",
       "      <th>taux_per_merchant</th>\n",
       "      <th>jour</th>\n",
       "    </tr>\n",
       "  </thead>\n",
       "  <tbody>\n",
       "    <tr>\n",
       "      <th>0</th>\n",
       "      <td>3</td>\n",
       "      <td>22</td>\n",
       "      <td>202</td>\n",
       "      <td>676</td>\n",
       "      <td>1112</td>\n",
       "      <td>31</td>\n",
       "      <td>1</td>\n",
       "      <td>0</td>\n",
       "      <td>0</td>\n",
       "      <td>0</td>\n",
       "      <td>1</td>\n",
       "      <td>6</td>\n",
       "      <td>2</td>\n",
       "    </tr>\n",
       "    <tr>\n",
       "      <th>1</th>\n",
       "      <td>3</td>\n",
       "      <td>13</td>\n",
       "      <td>347</td>\n",
       "      <td>696</td>\n",
       "      <td>1112</td>\n",
       "      <td>31</td>\n",
       "      <td>1</td>\n",
       "      <td>0</td>\n",
       "      <td>0</td>\n",
       "      <td>0</td>\n",
       "      <td>1</td>\n",
       "      <td>6</td>\n",
       "      <td>2</td>\n",
       "    </tr>\n",
       "  </tbody>\n",
       "</table>\n",
       "</div>"
      ],
      "text/plain": [
       "   Order Status  Quantity  Unit Price  Total Price  Sub Total  \\\n",
       "0             3        22         202          676       1112   \n",
       "1             3        13         347          696       1112   \n",
       "\n",
       "   Delivery Charge  Payment Method  Merchant  Order Time  Customer Country  \\\n",
       "0               31               1         0           0                 0   \n",
       "1               31               1         0           0                 0   \n",
       "\n",
       "   Purchase Again  taux_per_merchant  jour  \n",
       "0               1                  6     2  \n",
       "1               1                  6     2  "
      ]
     },
     "execution_count": 82,
     "metadata": {},
     "output_type": "execute_result"
    }
   ],
   "source": [
    "from sklearn.preprocessing import LabelEncoder\n",
    "encoder = LabelEncoder()\n",
    "data1 = data_train.apply(LabelEncoder().fit_transform)\n",
    "data1.head(n=2)"
   ]
  },
  {
   "cell_type": "code",
   "execution_count": 83,
   "metadata": {},
   "outputs": [
    {
     "data": {
      "text/html": [
       "<div>\n",
       "<style scoped>\n",
       "    .dataframe tbody tr th:only-of-type {\n",
       "        vertical-align: middle;\n",
       "    }\n",
       "\n",
       "    .dataframe tbody tr th {\n",
       "        vertical-align: top;\n",
       "    }\n",
       "\n",
       "    .dataframe thead th {\n",
       "        text-align: right;\n",
       "    }\n",
       "</style>\n",
       "<table border=\"1\" class=\"dataframe\">\n",
       "  <thead>\n",
       "    <tr style=\"text-align: right;\">\n",
       "      <th></th>\n",
       "      <th>Order ID</th>\n",
       "      <th>Order Status</th>\n",
       "      <th>Quantity</th>\n",
       "      <th>Unit Price</th>\n",
       "      <th>Total Price</th>\n",
       "      <th>Sub Total</th>\n",
       "      <th>Delivery Charge</th>\n",
       "      <th>Payment Method</th>\n",
       "      <th>Customer ID</th>\n",
       "      <th>Merchant</th>\n",
       "      <th>Order Time</th>\n",
       "      <th>Customer Country</th>\n",
       "      <th>jour</th>\n",
       "    </tr>\n",
       "  </thead>\n",
       "  <tbody>\n",
       "    <tr>\n",
       "      <th>0</th>\n",
       "      <td>0</td>\n",
       "      <td>2</td>\n",
       "      <td>1</td>\n",
       "      <td>281</td>\n",
       "      <td>481</td>\n",
       "      <td>415</td>\n",
       "      <td>48</td>\n",
       "      <td>0</td>\n",
       "      <td>524</td>\n",
       "      <td>2</td>\n",
       "      <td>0</td>\n",
       "      <td>0</td>\n",
       "      <td>2</td>\n",
       "    </tr>\n",
       "    <tr>\n",
       "      <th>1</th>\n",
       "      <td>0</td>\n",
       "      <td>2</td>\n",
       "      <td>0</td>\n",
       "      <td>97</td>\n",
       "      <td>115</td>\n",
       "      <td>415</td>\n",
       "      <td>48</td>\n",
       "      <td>0</td>\n",
       "      <td>524</td>\n",
       "      <td>2</td>\n",
       "      <td>0</td>\n",
       "      <td>0</td>\n",
       "      <td>2</td>\n",
       "    </tr>\n",
       "  </tbody>\n",
       "</table>\n",
       "</div>"
      ],
      "text/plain": [
       "   Order ID  Order Status  Quantity  Unit Price  Total Price  Sub Total  \\\n",
       "0         0             2         1         281          481        415   \n",
       "1         0             2         0          97          115        415   \n",
       "\n",
       "   Delivery Charge  Payment Method  Customer ID  Merchant  Order Time  \\\n",
       "0               48               0          524         2           0   \n",
       "1               48               0          524         2           0   \n",
       "\n",
       "   Customer Country  jour  \n",
       "0                 0     2  \n",
       "1                 0     2  "
      ]
     },
     "execution_count": 83,
     "metadata": {},
     "output_type": "execute_result"
    }
   ],
   "source": [
    "data2 = data_test.apply(LabelEncoder().fit_transform)\n",
    "data2.head(n=2)"
   ]
  },
  {
   "cell_type": "code",
   "execution_count": 84,
   "metadata": {},
   "outputs": [
    {
     "data": {
      "text/plain": [
       "<AxesSubplot:>"
      ]
     },
     "execution_count": 84,
     "metadata": {},
     "output_type": "execute_result"
    },
    {
     "data": {
      "image/png": "[encoded data removed]",
      "text/plain": [
       "<Figure size 720x720 with 2 Axes>"
      ]
     },
     "metadata": {
      "needs_background": "light"
     },
     "output_type": "display_data"
    }
   ],
   "source": [
    "plt.figure(figsize = (10,10))\n",
    "sns.heatmap(data1.corr(),annot = True)"
   ]
  },
  {
   "cell_type": "code",
   "execution_count": 85,
   "metadata": {},
   "outputs": [],
   "source": [
    "X = data1.drop('Purchase Again',axis = 1)\n",
    "y = data1[\"Purchase Again\"]"
   ]
  },
  {
   "cell_type": "code",
   "execution_count": 86,
   "metadata": {},
   "outputs": [],
   "source": [
    "from sklearn.model_selection  import train_test_split\n",
    "X_train, X_test, y_train, y_test = train_test_split(X, y, test_size = 0.2,random_state = 40)"
   ]
  },
  {
   "cell_type": "code",
   "execution_count": 87,
   "metadata": {},
   "outputs": [],
   "source": [
    "# Algorithms\n",
    "from sklearn import linear_model\n",
    "from sklearn.linear_model import LogisticRegression\n",
    "from sklearn.ensemble import RandomForestClassifier\n",
    "from sklearn.linear_model import Perceptron\n",
    "from sklearn.linear_model import SGDClassifier\n",
    "from sklearn.tree import DecisionTreeClassifier\n",
    "from sklearn.neighbors import KNeighborsClassifier\n",
    "from sklearn.svm import SVC, LinearSVC\n",
    "from sklearn.naive_bayes import GaussianNB"
   ]
  },
  {
   "cell_type": "code",
   "execution_count": 88,
   "metadata": {},
   "outputs": [
    {
     "name": "stdout",
     "output_type": "stream",
     "text": [
      "60.54 %\n"
     ]
    },
    {
     "name": "stderr",
     "output_type": "stream",
     "text": [
      "C:\\Users\\lenov\\AppData\\Local\\Programs\\Python\\Python310\\lib\\site-packages\\sklearn\\linear_model\\_logistic.py:814: ConvergenceWarning: lbfgs failed to converge (status=1):\n",
      "STOP: TOTAL NO. of ITERATIONS REACHED LIMIT.\n",
      "\n",
      "Increase the number of iterations (max_iter) or scale the data as shown in:\n",
      "    https://scikit-learn.org/stable/modules/preprocessing.html\n",
      "Please also refer to the documentation for alternative solver options:\n",
      "    https://scikit-learn.org/stable/modules/linear_model.html#logistic-regression\n",
      "  n_iter_i = _check_optimize_result(\n"
     ]
    }
   ],
   "source": [
    "# Logistic Regression\n",
    "logreg = LogisticRegression()\n",
    "logreg.fit(X_train, y_train)\n",
    "\n",
    "Y_pred = logreg.predict(X_test)\n",
    "\n",
    "acc_log = round(logreg.score(X_train, y_train) * 100, 2)\n",
    "print(round(acc_log,2,), \"%\")"
   ]
  },
  {
   "cell_type": "code",
   "execution_count": 89,
   "metadata": {},
   "outputs": [
    {
     "name": "stdout",
     "output_type": "stream",
     "text": [
      "55.23 %\n"
     ]
    }
   ],
   "source": [
    "# stochastic gradient descent (SGD) learning\n",
    "sgd = linear_model.SGDClassifier(max_iter=5, tol=None)\n",
    "sgd.fit(X_train, y_train)\n",
    "Y_pred = sgd.predict(X_test)\n",
    "\n",
    "sgd.score(X_train, y_train)\n",
    "\n",
    "acc_sgd = round(sgd.score(X_train, y_train) * 100, 2)\n",
    "\n",
    "print(round(acc_sgd,2,), \"%\")"
   ]
  },
  {
   "cell_type": "code",
   "execution_count": 90,
   "metadata": {},
   "outputs": [
    {
     "name": "stdout",
     "output_type": "stream",
     "text": [
      "100.0 %\n"
     ]
    }
   ],
   "source": [
    "# Random Forest\n",
    "random_forest = RandomForestClassifier(n_estimators=100)\n",
    "random_forest.fit(X_train, y_train)\n",
    "\n",
    "Y_prediction = random_forest.predict(X_test)\n",
    "\n",
    "random_forest.score(X_train, y_train)\n",
    "acc_random_forest = round(random_forest.score(X_train, y_train) * 100, 2)\n",
    "print(round(acc_random_forest,2,), \"%\")"
   ]
  },
  {
   "cell_type": "code",
   "execution_count": 91,
   "metadata": {},
   "outputs": [
    {
     "name": "stdout",
     "output_type": "stream",
     "text": [
      "60.54 %\n"
     ]
    },
    {
     "name": "stderr",
     "output_type": "stream",
     "text": [
      "C:\\Users\\lenov\\AppData\\Local\\Programs\\Python\\Python310\\lib\\site-packages\\sklearn\\linear_model\\_logistic.py:814: ConvergenceWarning: lbfgs failed to converge (status=1):\n",
      "STOP: TOTAL NO. of ITERATIONS REACHED LIMIT.\n",
      "\n",
      "Increase the number of iterations (max_iter) or scale the data as shown in:\n",
      "    https://scikit-learn.org/stable/modules/preprocessing.html\n",
      "Please also refer to the documentation for alternative solver options:\n",
      "    https://scikit-learn.org/stable/modules/linear_model.html#logistic-regression\n",
      "  n_iter_i = _check_optimize_result(\n"
     ]
    }
   ],
   "source": [
    "# Logistic Regression\n",
    "logreg = LogisticRegression()\n",
    "logreg.fit(X_train, y_train)\n",
    "\n",
    "Y_pred = logreg.predict(X_test)\n",
    "\n",
    "acc_log = round(logreg.score(X_train, y_train) * 100, 2)\n",
    "print(round(acc_log,2,), \"%\")"
   ]
  },
  {
   "cell_type": "code",
   "execution_count": 92,
   "metadata": {},
   "outputs": [
    {
     "name": "stdout",
     "output_type": "stream",
     "text": [
      "95.26 %\n"
     ]
    }
   ],
   "source": [
    "# KNN\n",
    "knn = KNeighborsClassifier(n_neighbors = 3)\n",
    "knn.fit(X_train, y_train)\n",
    "\n",
    "Y_pred = knn.predict(X_test)\n",
    "\n",
    "acc_knn = round(knn.score(X_train, y_train) * 100, 2)\n",
    "print(round(acc_knn,2,), \"%\")"
   ]
  },
  {
   "cell_type": "code",
   "execution_count": 93,
   "metadata": {},
   "outputs": [
    {
     "name": "stdout",
     "output_type": "stream",
     "text": [
      "61.54 %\n"
     ]
    }
   ],
   "source": [
    "# Gaussian Naive Bayes\n",
    "gaussian = GaussianNB()\n",
    "gaussian.fit(X_train, y_train)\n",
    "\n",
    "Y_pred = gaussian.predict(X_test)\n",
    "\n",
    "acc_gaussian = round(gaussian.score(X_train, y_train) * 100, 2)\n",
    "print(round(acc_gaussian,2,), \"%\")"
   ]
  },
  {
   "cell_type": "code",
   "execution_count": 94,
   "metadata": {},
   "outputs": [
    {
     "name": "stdout",
     "output_type": "stream",
     "text": [
      "55.26 %\n"
     ]
    },
    {
     "name": "stderr",
     "output_type": "stream",
     "text": [
      "C:\\Users\\lenov\\AppData\\Local\\Programs\\Python\\Python310\\lib\\site-packages\\sklearn\\linear_model\\_stochastic_gradient.py:696: ConvergenceWarning: Maximum number of iteration reached before convergence. Consider increasing max_iter to improve the fit.\n",
      "  warnings.warn(\n"
     ]
    },
    {
     "name": "stdout",
     "output_type": "stream",
     "text": [
      "55.29 %\n",
      "100.0 %\n"
     ]
    },
    {
     "name": "stderr",
     "output_type": "stream",
     "text": [
      "C:\\Users\\lenov\\AppData\\Local\\Programs\\Python\\Python310\\lib\\site-packages\\sklearn\\svm\\_base.py:1206: ConvergenceWarning: Liblinear failed to converge, increase the number of iterations.\n",
      "  warnings.warn(\n"
     ]
    }
   ],
   "source": [
    "# Perceptron\n",
    "perceptron = Perceptron(max_iter=5)\n",
    "perceptron.fit(X_train, y_train)\n",
    "\n",
    "Y_pred = perceptron.predict(X_test)\n",
    "\n",
    "acc_perceptron = round(perceptron.score(X_train, y_train) * 100, 2)\n",
    "print(round(acc_perceptron,2,), \"%\")\n",
    "\n",
    "# Linear SVC\n",
    "linear_svc = LinearSVC()\n",
    "linear_svc.fit(X_train, y_train)\n",
    "\n",
    "Y_pred = linear_svc.predict(X_test)\n",
    "\n",
    "acc_linear_svc = round(linear_svc.score(X_train, y_train) * 100, 2)\n",
    "print(round(acc_linear_svc,2,), \"%\")\n",
    "\n",
    "# Decision Tree\n",
    "decision_tree = DecisionTreeClassifier()\n",
    "decision_tree.fit(X_train, y_train)\n",
    "\n",
    "Y_pred = decision_tree.predict(X_test)\n",
    "\n",
    "acc_decision_tree = round(decision_tree.score(X_train, y_train) * 100, 2)\n",
    "print(round(acc_decision_tree,2,), \"%\")"
   ]
  },
  {
   "cell_type": "code",
   "execution_count": 95,
   "metadata": {},
   "outputs": [
    {
     "data": {
      "text/html": [
       "<div>\n",
       "<style scoped>\n",
       "    .dataframe tbody tr th:only-of-type {\n",
       "        vertical-align: middle;\n",
       "    }\n",
       "\n",
       "    .dataframe tbody tr th {\n",
       "        vertical-align: top;\n",
       "    }\n",
       "\n",
       "    .dataframe thead th {\n",
       "        text-align: right;\n",
       "    }\n",
       "</style>\n",
       "<table border=\"1\" class=\"dataframe\">\n",
       "  <thead>\n",
       "    <tr style=\"text-align: right;\">\n",
       "      <th></th>\n",
       "      <th>Model</th>\n",
       "    </tr>\n",
       "    <tr>\n",
       "      <th>Score</th>\n",
       "      <th></th>\n",
       "    </tr>\n",
       "  </thead>\n",
       "  <tbody>\n",
       "    <tr>\n",
       "      <th>100.00</th>\n",
       "      <td>Random Forest</td>\n",
       "    </tr>\n",
       "    <tr>\n",
       "      <th>100.00</th>\n",
       "      <td>Decision Tree</td>\n",
       "    </tr>\n",
       "    <tr>\n",
       "      <th>95.26</th>\n",
       "      <td>KNN</td>\n",
       "    </tr>\n",
       "    <tr>\n",
       "      <th>61.54</th>\n",
       "      <td>Naive Bayes</td>\n",
       "    </tr>\n",
       "    <tr>\n",
       "      <th>60.54</th>\n",
       "      <td>Logistic Regression</td>\n",
       "    </tr>\n",
       "    <tr>\n",
       "      <th>55.29</th>\n",
       "      <td>Support Vector Machines</td>\n",
       "    </tr>\n",
       "    <tr>\n",
       "      <th>55.26</th>\n",
       "      <td>Perceptron</td>\n",
       "    </tr>\n",
       "    <tr>\n",
       "      <th>55.23</th>\n",
       "      <td>Stochastic Gradient Decent</td>\n",
       "    </tr>\n",
       "  </tbody>\n",
       "</table>\n",
       "</div>"
      ],
      "text/plain": [
       "                             Model\n",
       "Score                             \n",
       "100.00               Random Forest\n",
       "100.00               Decision Tree\n",
       "95.26                          KNN\n",
       "61.54                  Naive Bayes\n",
       "60.54          Logistic Regression\n",
       "55.29      Support Vector Machines\n",
       "55.26                   Perceptron\n",
       "55.23   Stochastic Gradient Decent"
      ]
     },
     "execution_count": 95,
     "metadata": {},
     "output_type": "execute_result"
    }
   ],
   "source": [
    "# Comparing models\n",
    "\n",
    "results = pd.DataFrame({\n",
    "    'Model': ['Support Vector Machines', 'KNN', 'Logistic Regression', \n",
    "              'Random Forest', 'Naive Bayes', 'Perceptron', \n",
    "              'Stochastic Gradient Decent', \n",
    "              'Decision Tree'],\n",
    "    'Score': [acc_linear_svc, acc_knn, acc_log, \n",
    "              acc_random_forest, acc_gaussian, acc_perceptron, \n",
    "              acc_sgd, acc_decision_tree]})\n",
    "result_df = results.sort_values(by='Score', ascending=False)\n",
    "result_df = result_df.set_index('Score')\n",
    "result_df.head(9)"
   ]
  },
  {
   "cell_type": "code",
   "execution_count": 96,
   "metadata": {},
   "outputs": [
    {
     "data": {
      "text/plain": [
       "<AxesSubplot:xlabel='feature'>"
      ]
     },
     "execution_count": 96,
     "metadata": {},
     "output_type": "execute_result"
    },
    {
     "data": {
      "image/png": "[encoded data removed]",
      "text/plain": [
       "<Figure size 432x288 with 1 Axes>"
      ]
     },
     "metadata": {
      "needs_background": "light"
     },
     "output_type": "display_data"
    }
   ],
   "source": [
    "# Features importance\n",
    "importances = pd.DataFrame({'feature':X_train.columns,'importance':np.round(random_forest.feature_importances_,3)})\n",
    "importances = importances.sort_values('importance',ascending=False).set_index('feature')\n",
    "\n",
    "importances.plot.bar()"
   ]
  },
  {
   "cell_type": "code",
   "execution_count": 97,
   "metadata": {},
   "outputs": [
    {
     "data": {
      "text/html": [
       "<div>\n",
       "<style scoped>\n",
       "    .dataframe tbody tr th:only-of-type {\n",
       "        vertical-align: middle;\n",
       "    }\n",
       "\n",
       "    .dataframe tbody tr th {\n",
       "        vertical-align: top;\n",
       "    }\n",
       "\n",
       "    .dataframe thead th {\n",
       "        text-align: right;\n",
       "    }\n",
       "</style>\n",
       "<table border=\"1\" class=\"dataframe\">\n",
       "  <thead>\n",
       "    <tr style=\"text-align: right;\">\n",
       "      <th></th>\n",
       "      <th>Order ID</th>\n",
       "      <th>Order Status</th>\n",
       "      <th>Quantity</th>\n",
       "      <th>Unit Price</th>\n",
       "      <th>Total Price</th>\n",
       "      <th>Sub Total</th>\n",
       "      <th>Delivery Charge</th>\n",
       "      <th>Payment Method</th>\n",
       "      <th>Customer ID</th>\n",
       "      <th>Merchant</th>\n",
       "      <th>Order Time</th>\n",
       "      <th>Customer Country</th>\n",
       "      <th>jour</th>\n",
       "    </tr>\n",
       "  </thead>\n",
       "  <tbody>\n",
       "    <tr>\n",
       "      <th>0</th>\n",
       "      <td>8236741</td>\n",
       "      <td>COMPLETED</td>\n",
       "      <td>2</td>\n",
       "      <td>1390.0</td>\n",
       "      <td>2780.0</td>\n",
       "      <td>4740.0</td>\n",
       "      <td>550</td>\n",
       "      <td>CARD_PAY</td>\n",
       "      <td>8.392444e+06</td>\n",
       "      <td>7225386</td>\n",
       "      <td>2021-01-01 00:40:42</td>\n",
       "      <td>Algeria</td>\n",
       "      <td>nuit</td>\n",
       "    </tr>\n",
       "    <tr>\n",
       "      <th>1</th>\n",
       "      <td>8236741</td>\n",
       "      <td>COMPLETED</td>\n",
       "      <td>1</td>\n",
       "      <td>210.0</td>\n",
       "      <td>210.0</td>\n",
       "      <td>4740.0</td>\n",
       "      <td>550</td>\n",
       "      <td>CARD_PAY</td>\n",
       "      <td>8.392444e+06</td>\n",
       "      <td>7225386</td>\n",
       "      <td>2021-01-01 00:40:42</td>\n",
       "      <td>Algeria</td>\n",
       "      <td>nuit</td>\n",
       "    </tr>\n",
       "    <tr>\n",
       "      <th>2</th>\n",
       "      <td>8236741</td>\n",
       "      <td>COMPLETED</td>\n",
       "      <td>1</td>\n",
       "      <td>210.0</td>\n",
       "      <td>210.0</td>\n",
       "      <td>4740.0</td>\n",
       "      <td>550</td>\n",
       "      <td>CARD_PAY</td>\n",
       "      <td>8.392444e+06</td>\n",
       "      <td>7225386</td>\n",
       "      <td>2021-01-01 00:40:42</td>\n",
       "      <td>Algeria</td>\n",
       "      <td>nuit</td>\n",
       "    </tr>\n",
       "    <tr>\n",
       "      <th>3</th>\n",
       "      <td>8236741</td>\n",
       "      <td>COMPLETED</td>\n",
       "      <td>1</td>\n",
       "      <td>900.0</td>\n",
       "      <td>900.0</td>\n",
       "      <td>4740.0</td>\n",
       "      <td>550</td>\n",
       "      <td>CARD_PAY</td>\n",
       "      <td>8.392444e+06</td>\n",
       "      <td>7225386</td>\n",
       "      <td>2021-01-01 00:40:42</td>\n",
       "      <td>Algeria</td>\n",
       "      <td>nuit</td>\n",
       "    </tr>\n",
       "    <tr>\n",
       "      <th>4</th>\n",
       "      <td>8236741</td>\n",
       "      <td>COMPLETED</td>\n",
       "      <td>2</td>\n",
       "      <td>170.0</td>\n",
       "      <td>340.0</td>\n",
       "      <td>4740.0</td>\n",
       "      <td>550</td>\n",
       "      <td>CARD_PAY</td>\n",
       "      <td>8.392444e+06</td>\n",
       "      <td>7225386</td>\n",
       "      <td>2021-01-01 00:40:42</td>\n",
       "      <td>Algeria</td>\n",
       "      <td>nuit</td>\n",
       "    </tr>\n",
       "    <tr>\n",
       "      <th>...</th>\n",
       "      <td>...</td>\n",
       "      <td>...</td>\n",
       "      <td>...</td>\n",
       "      <td>...</td>\n",
       "      <td>...</td>\n",
       "      <td>...</td>\n",
       "      <td>...</td>\n",
       "      <td>...</td>\n",
       "      <td>...</td>\n",
       "      <td>...</td>\n",
       "      <td>...</td>\n",
       "      <td>...</td>\n",
       "      <td>...</td>\n",
       "    </tr>\n",
       "    <tr>\n",
       "      <th>12008</th>\n",
       "      <td>1395694909</td>\n",
       "      <td>REJECTED</td>\n",
       "      <td>5</td>\n",
       "      <td>600.0</td>\n",
       "      <td>3000.0</td>\n",
       "      <td>3000.0</td>\n",
       "      <td>200</td>\n",
       "      <td>CASH_PAY</td>\n",
       "      <td>4.949852e+06</td>\n",
       "      <td>23255526</td>\n",
       "      <td>2021-02-14 18:55:23</td>\n",
       "      <td>Algeria</td>\n",
       "      <td>après-midi</td>\n",
       "    </tr>\n",
       "    <tr>\n",
       "      <th>12009</th>\n",
       "      <td>3266630982</td>\n",
       "      <td>COMPLETED</td>\n",
       "      <td>1</td>\n",
       "      <td>220.0</td>\n",
       "      <td>220.0</td>\n",
       "      <td>1100.0</td>\n",
       "      <td>200</td>\n",
       "      <td>CARD_PAY</td>\n",
       "      <td>6.313937e+09</td>\n",
       "      <td>10586352</td>\n",
       "      <td>2021-02-14 20:43:24</td>\n",
       "      <td>Algeria</td>\n",
       "      <td>nuit</td>\n",
       "    </tr>\n",
       "    <tr>\n",
       "      <th>12010</th>\n",
       "      <td>3266630982</td>\n",
       "      <td>COMPLETED</td>\n",
       "      <td>4</td>\n",
       "      <td>220.0</td>\n",
       "      <td>880.0</td>\n",
       "      <td>1100.0</td>\n",
       "      <td>200</td>\n",
       "      <td>CARD_PAY</td>\n",
       "      <td>6.313937e+09</td>\n",
       "      <td>10586352</td>\n",
       "      <td>2021-02-14 20:43:24</td>\n",
       "      <td>Algeria</td>\n",
       "      <td>nuit</td>\n",
       "    </tr>\n",
       "    <tr>\n",
       "      <th>12011</th>\n",
       "      <td>14338798234</td>\n",
       "      <td>REJECTED</td>\n",
       "      <td>1</td>\n",
       "      <td>5150.0</td>\n",
       "      <td>5150.0</td>\n",
       "      <td>5150.0</td>\n",
       "      <td>200</td>\n",
       "      <td>CASH_PAY</td>\n",
       "      <td>7.734230e+06</td>\n",
       "      <td>14700945</td>\n",
       "      <td>2021-02-14 22:06:49</td>\n",
       "      <td>Algeria</td>\n",
       "      <td>nuit</td>\n",
       "    </tr>\n",
       "    <tr>\n",
       "      <th>12012</th>\n",
       "      <td>3065040473</td>\n",
       "      <td>COMPLETED</td>\n",
       "      <td>1</td>\n",
       "      <td>3200.0</td>\n",
       "      <td>3200.0</td>\n",
       "      <td>3200.0</td>\n",
       "      <td>590</td>\n",
       "      <td>CARD_PAY</td>\n",
       "      <td>6.371662e+06</td>\n",
       "      <td>17661000000000</td>\n",
       "      <td>2021-02-14 23:44:11</td>\n",
       "      <td>Algeria</td>\n",
       "      <td>nuit</td>\n",
       "    </tr>\n",
       "  </tbody>\n",
       "</table>\n",
       "<p>12013 rows × 13 columns</p>\n",
       "</div>"
      ],
      "text/plain": [
       "          Order ID Order Status  Quantity  Unit Price  Total Price  Sub Total  \\\n",
       "0          8236741    COMPLETED         2      1390.0       2780.0     4740.0   \n",
       "1          8236741    COMPLETED         1       210.0        210.0     4740.0   \n",
       "2          8236741    COMPLETED         1       210.0        210.0     4740.0   \n",
       "3          8236741    COMPLETED         1       900.0        900.0     4740.0   \n",
       "4          8236741    COMPLETED         2       170.0        340.0     4740.0   \n",
       "...            ...          ...       ...         ...          ...        ...   \n",
       "12008   1395694909     REJECTED         5       600.0       3000.0     3000.0   \n",
       "12009   3266630982    COMPLETED         1       220.0        220.0     1100.0   \n",
       "12010   3266630982    COMPLETED         4       220.0        880.0     1100.0   \n",
       "12011  14338798234     REJECTED         1      5150.0       5150.0     5150.0   \n",
       "12012   3065040473    COMPLETED         1      3200.0       3200.0     3200.0   \n",
       "\n",
       "      Delivery Charge Payment Method   Customer ID        Merchant  \\\n",
       "0                 550       CARD_PAY  8.392444e+06         7225386   \n",
       "1                 550       CARD_PAY  8.392444e+06         7225386   \n",
       "2                 550       CARD_PAY  8.392444e+06         7225386   \n",
       "3                 550       CARD_PAY  8.392444e+06         7225386   \n",
       "4                 550       CARD_PAY  8.392444e+06         7225386   \n",
       "...               ...            ...           ...             ...   \n",
       "12008             200       CASH_PAY  4.949852e+06        23255526   \n",
       "12009             200       CARD_PAY  6.313937e+09        10586352   \n",
       "12010             200       CARD_PAY  6.313937e+09        10586352   \n",
       "12011             200       CASH_PAY  7.734230e+06        14700945   \n",
       "12012             590       CARD_PAY  6.371662e+06  17661000000000   \n",
       "\n",
       "               Order Time Customer Country        jour  \n",
       "0     2021-01-01 00:40:42          Algeria        nuit  \n",
       "1     2021-01-01 00:40:42          Algeria        nuit  \n",
       "2     2021-01-01 00:40:42          Algeria        nuit  \n",
       "3     2021-01-01 00:40:42          Algeria        nuit  \n",
       "4     2021-01-01 00:40:42          Algeria        nuit  \n",
       "...                   ...              ...         ...  \n",
       "12008 2021-02-14 18:55:23          Algeria  après-midi  \n",
       "12009 2021-02-14 20:43:24          Algeria        nuit  \n",
       "12010 2021-02-14 20:43:24          Algeria        nuit  \n",
       "12011 2021-02-14 22:06:49          Algeria        nuit  \n",
       "12012 2021-02-14 23:44:11          Algeria        nuit  \n",
       "\n",
       "[12013 rows x 13 columns]"
      ]
     },
     "execution_count": 97,
     "metadata": {},
     "output_type": "execute_result"
    }
   ],
   "source": [
    "data_test"
   ]
  },
  {
   "cell_type": "code",
   "execution_count": 98,
   "metadata": {},
   "outputs": [
    {
     "data": {
      "text/html": [
       "<div>\n",
       "<style scoped>\n",
       "    .dataframe tbody tr th:only-of-type {\n",
       "        vertical-align: middle;\n",
       "    }\n",
       "\n",
       "    .dataframe tbody tr th {\n",
       "        vertical-align: top;\n",
       "    }\n",
       "\n",
       "    .dataframe thead th {\n",
       "        text-align: right;\n",
       "    }\n",
       "</style>\n",
       "<table border=\"1\" class=\"dataframe\">\n",
       "  <thead>\n",
       "    <tr style=\"text-align: right;\">\n",
       "      <th></th>\n",
       "      <th>Order ID</th>\n",
       "      <th>Order Status</th>\n",
       "      <th>Quantity</th>\n",
       "      <th>Unit Price</th>\n",
       "      <th>Total Price</th>\n",
       "      <th>Sub Total</th>\n",
       "      <th>Delivery Charge</th>\n",
       "      <th>Payment Method</th>\n",
       "      <th>Customer ID</th>\n",
       "      <th>Merchant</th>\n",
       "      <th>Order Time</th>\n",
       "      <th>Customer Country</th>\n",
       "      <th>jour</th>\n",
       "    </tr>\n",
       "  </thead>\n",
       "  <tbody>\n",
       "    <tr>\n",
       "      <th>0</th>\n",
       "      <td>8236741</td>\n",
       "      <td>COMPLETED</td>\n",
       "      <td>2</td>\n",
       "      <td>1390.0</td>\n",
       "      <td>2780.0</td>\n",
       "      <td>4740.0</td>\n",
       "      <td>550</td>\n",
       "      <td>CARD_PAY</td>\n",
       "      <td>8392444.0</td>\n",
       "      <td>7225386</td>\n",
       "      <td>2021-01-01 00:40:42</td>\n",
       "      <td>Algeria</td>\n",
       "      <td>nuit</td>\n",
       "    </tr>\n",
       "    <tr>\n",
       "      <th>1</th>\n",
       "      <td>8236741</td>\n",
       "      <td>COMPLETED</td>\n",
       "      <td>1</td>\n",
       "      <td>210.0</td>\n",
       "      <td>210.0</td>\n",
       "      <td>4740.0</td>\n",
       "      <td>550</td>\n",
       "      <td>CARD_PAY</td>\n",
       "      <td>8392444.0</td>\n",
       "      <td>7225386</td>\n",
       "      <td>2021-01-01 00:40:42</td>\n",
       "      <td>Algeria</td>\n",
       "      <td>nuit</td>\n",
       "    </tr>\n",
       "    <tr>\n",
       "      <th>2</th>\n",
       "      <td>8236741</td>\n",
       "      <td>COMPLETED</td>\n",
       "      <td>1</td>\n",
       "      <td>210.0</td>\n",
       "      <td>210.0</td>\n",
       "      <td>4740.0</td>\n",
       "      <td>550</td>\n",
       "      <td>CARD_PAY</td>\n",
       "      <td>8392444.0</td>\n",
       "      <td>7225386</td>\n",
       "      <td>2021-01-01 00:40:42</td>\n",
       "      <td>Algeria</td>\n",
       "      <td>nuit</td>\n",
       "    </tr>\n",
       "    <tr>\n",
       "      <th>3</th>\n",
       "      <td>8236741</td>\n",
       "      <td>COMPLETED</td>\n",
       "      <td>1</td>\n",
       "      <td>900.0</td>\n",
       "      <td>900.0</td>\n",
       "      <td>4740.0</td>\n",
       "      <td>550</td>\n",
       "      <td>CARD_PAY</td>\n",
       "      <td>8392444.0</td>\n",
       "      <td>7225386</td>\n",
       "      <td>2021-01-01 00:40:42</td>\n",
       "      <td>Algeria</td>\n",
       "      <td>nuit</td>\n",
       "    </tr>\n",
       "    <tr>\n",
       "      <th>4</th>\n",
       "      <td>8236741</td>\n",
       "      <td>COMPLETED</td>\n",
       "      <td>2</td>\n",
       "      <td>170.0</td>\n",
       "      <td>340.0</td>\n",
       "      <td>4740.0</td>\n",
       "      <td>550</td>\n",
       "      <td>CARD_PAY</td>\n",
       "      <td>8392444.0</td>\n",
       "      <td>7225386</td>\n",
       "      <td>2021-01-01 00:40:42</td>\n",
       "      <td>Algeria</td>\n",
       "      <td>nuit</td>\n",
       "    </tr>\n",
       "  </tbody>\n",
       "</table>\n",
       "</div>"
      ],
      "text/plain": [
       "   Order ID Order Status  Quantity  Unit Price  Total Price  Sub Total  \\\n",
       "0   8236741    COMPLETED         2      1390.0       2780.0     4740.0   \n",
       "1   8236741    COMPLETED         1       210.0        210.0     4740.0   \n",
       "2   8236741    COMPLETED         1       210.0        210.0     4740.0   \n",
       "3   8236741    COMPLETED         1       900.0        900.0     4740.0   \n",
       "4   8236741    COMPLETED         2       170.0        340.0     4740.0   \n",
       "\n",
       "  Delivery Charge Payment Method  Customer ID  Merchant          Order Time  \\\n",
       "0             550       CARD_PAY    8392444.0   7225386 2021-01-01 00:40:42   \n",
       "1             550       CARD_PAY    8392444.0   7225386 2021-01-01 00:40:42   \n",
       "2             550       CARD_PAY    8392444.0   7225386 2021-01-01 00:40:42   \n",
       "3             550       CARD_PAY    8392444.0   7225386 2021-01-01 00:40:42   \n",
       "4             550       CARD_PAY    8392444.0   7225386 2021-01-01 00:40:42   \n",
       "\n",
       "  Customer Country  jour  \n",
       "0          Algeria  nuit  \n",
       "1          Algeria  nuit  \n",
       "2          Algeria  nuit  \n",
       "3          Algeria  nuit  \n",
       "4          Algeria  nuit  "
      ]
     },
     "execution_count": 98,
     "metadata": {},
     "output_type": "execute_result"
    }
   ],
   "source": [
    "data_test2 = data_test\n",
    "data_test2.head()"
   ]
  },
  {
   "cell_type": "code",
   "execution_count": 99,
   "metadata": {},
   "outputs": [
    {
     "data": {
      "text/html": [
       "<div>\n",
       "<style scoped>\n",
       "    .dataframe tbody tr th:only-of-type {\n",
       "        vertical-align: middle;\n",
       "    }\n",
       "\n",
       "    .dataframe tbody tr th {\n",
       "        vertical-align: top;\n",
       "    }\n",
       "\n",
       "    .dataframe thead th {\n",
       "        text-align: right;\n",
       "    }\n",
       "</style>\n",
       "<table border=\"1\" class=\"dataframe\">\n",
       "  <thead>\n",
       "    <tr style=\"text-align: right;\">\n",
       "      <th></th>\n",
       "      <th>Order Status</th>\n",
       "      <th>Quantity</th>\n",
       "      <th>Unit Price</th>\n",
       "      <th>Total Price</th>\n",
       "      <th>Sub Total</th>\n",
       "      <th>Delivery Charge</th>\n",
       "      <th>Payment Method</th>\n",
       "      <th>Merchant</th>\n",
       "      <th>Order Time</th>\n",
       "      <th>Customer Country</th>\n",
       "      <th>jour</th>\n",
       "    </tr>\n",
       "  </thead>\n",
       "  <tbody>\n",
       "    <tr>\n",
       "      <th>0</th>\n",
       "      <td>2</td>\n",
       "      <td>1</td>\n",
       "      <td>281</td>\n",
       "      <td>481</td>\n",
       "      <td>415</td>\n",
       "      <td>48</td>\n",
       "      <td>0</td>\n",
       "      <td>2</td>\n",
       "      <td>0</td>\n",
       "      <td>0</td>\n",
       "      <td>2</td>\n",
       "    </tr>\n",
       "    <tr>\n",
       "      <th>1</th>\n",
       "      <td>2</td>\n",
       "      <td>0</td>\n",
       "      <td>97</td>\n",
       "      <td>115</td>\n",
       "      <td>415</td>\n",
       "      <td>48</td>\n",
       "      <td>0</td>\n",
       "      <td>2</td>\n",
       "      <td>0</td>\n",
       "      <td>0</td>\n",
       "      <td>2</td>\n",
       "    </tr>\n",
       "    <tr>\n",
       "      <th>2</th>\n",
       "      <td>2</td>\n",
       "      <td>0</td>\n",
       "      <td>97</td>\n",
       "      <td>115</td>\n",
       "      <td>415</td>\n",
       "      <td>48</td>\n",
       "      <td>0</td>\n",
       "      <td>2</td>\n",
       "      <td>0</td>\n",
       "      <td>0</td>\n",
       "      <td>2</td>\n",
       "    </tr>\n",
       "    <tr>\n",
       "      <th>3</th>\n",
       "      <td>2</td>\n",
       "      <td>0</td>\n",
       "      <td>246</td>\n",
       "      <td>308</td>\n",
       "      <td>415</td>\n",
       "      <td>48</td>\n",
       "      <td>0</td>\n",
       "      <td>2</td>\n",
       "      <td>0</td>\n",
       "      <td>0</td>\n",
       "      <td>2</td>\n",
       "    </tr>\n",
       "    <tr>\n",
       "      <th>4</th>\n",
       "      <td>2</td>\n",
       "      <td>1</td>\n",
       "      <td>81</td>\n",
       "      <td>165</td>\n",
       "      <td>415</td>\n",
       "      <td>48</td>\n",
       "      <td>0</td>\n",
       "      <td>2</td>\n",
       "      <td>0</td>\n",
       "      <td>0</td>\n",
       "      <td>2</td>\n",
       "    </tr>\n",
       "  </tbody>\n",
       "</table>\n",
       "</div>"
      ],
      "text/plain": [
       "   Order Status  Quantity  Unit Price  Total Price  Sub Total  \\\n",
       "0             2         1         281          481        415   \n",
       "1             2         0          97          115        415   \n",
       "2             2         0          97          115        415   \n",
       "3             2         0         246          308        415   \n",
       "4             2         1          81          165        415   \n",
       "\n",
       "   Delivery Charge  Payment Method  Merchant  Order Time  Customer Country  \\\n",
       "0               48               0         2           0                 0   \n",
       "1               48               0         2           0                 0   \n",
       "2               48               0         2           0                 0   \n",
       "3               48               0         2           0                 0   \n",
       "4               48               0         2           0                 0   \n",
       "\n",
       "   jour  \n",
       "0     2  \n",
       "1     2  \n",
       "2     2  \n",
       "3     2  \n",
       "4     2  "
      ]
     },
     "execution_count": 99,
     "metadata": {},
     "output_type": "execute_result"
    }
   ],
   "source": [
    "data2 = data2.drop('Customer ID',axis = 1)\n",
    "data2 = data2.drop('Order ID',axis = 1)\n",
    "data2.head()"
   ]
  },
  {
   "cell_type": "code",
   "execution_count": 100,
   "metadata": {},
   "outputs": [
    {
     "data": {
      "text/plain": [
       "12013"
      ]
     },
     "execution_count": 100,
     "metadata": {},
     "output_type": "execute_result"
    }
   ],
   "source": [
    "taux_per_merchant=[]\n",
    "for j in data2[\"Merchant\"] : \n",
    "    c=0\n",
    "    for i in range(55): \n",
    "        if j == valeurs_merchant[i] : \n",
    "            taux_per_merchant.append(a[i])\n",
    "            c=1 \n",
    "    if c==0 : \n",
    "        taux_per_merchant.append(1)\n",
    "len(taux_per_merchant )"
   ]
  },
  {
   "cell_type": "code",
   "execution_count": 101,
   "metadata": {},
   "outputs": [],
   "source": [
    "data2['taux_per_merchant'] = taux_per_merchant"
   ]
  },
  {
   "cell_type": "code",
   "execution_count": 102,
   "metadata": {},
   "outputs": [],
   "source": [
    "jour = data2['jour']\n",
    "data2 = data2.drop('jour',axis = 1)\n",
    "data2['jour'] = jour"
   ]
  },
  {
   "cell_type": "code",
   "execution_count": 103,
   "metadata": {},
   "outputs": [
    {
     "data": {
      "text/html": [
       "<div>\n",
       "<style scoped>\n",
       "    .dataframe tbody tr th:only-of-type {\n",
       "        vertical-align: middle;\n",
       "    }\n",
       "\n",
       "    .dataframe tbody tr th {\n",
       "        vertical-align: top;\n",
       "    }\n",
       "\n",
       "    .dataframe thead th {\n",
       "        text-align: right;\n",
       "    }\n",
       "</style>\n",
       "<table border=\"1\" class=\"dataframe\">\n",
       "  <thead>\n",
       "    <tr style=\"text-align: right;\">\n",
       "      <th></th>\n",
       "      <th>Order Status</th>\n",
       "      <th>Quantity</th>\n",
       "      <th>Unit Price</th>\n",
       "      <th>Total Price</th>\n",
       "      <th>Sub Total</th>\n",
       "      <th>Delivery Charge</th>\n",
       "      <th>Payment Method</th>\n",
       "      <th>Merchant</th>\n",
       "      <th>Order Time</th>\n",
       "      <th>Customer Country</th>\n",
       "      <th>taux_per_merchant</th>\n",
       "      <th>jour</th>\n",
       "    </tr>\n",
       "  </thead>\n",
       "  <tbody>\n",
       "    <tr>\n",
       "      <th>0</th>\n",
       "      <td>2</td>\n",
       "      <td>1</td>\n",
       "      <td>281</td>\n",
       "      <td>481</td>\n",
       "      <td>415</td>\n",
       "      <td>48</td>\n",
       "      <td>0</td>\n",
       "      <td>2</td>\n",
       "      <td>0</td>\n",
       "      <td>0</td>\n",
       "      <td>1</td>\n",
       "      <td>2</td>\n",
       "    </tr>\n",
       "    <tr>\n",
       "      <th>1</th>\n",
       "      <td>2</td>\n",
       "      <td>0</td>\n",
       "      <td>97</td>\n",
       "      <td>115</td>\n",
       "      <td>415</td>\n",
       "      <td>48</td>\n",
       "      <td>0</td>\n",
       "      <td>2</td>\n",
       "      <td>0</td>\n",
       "      <td>0</td>\n",
       "      <td>1</td>\n",
       "      <td>2</td>\n",
       "    </tr>\n",
       "    <tr>\n",
       "      <th>2</th>\n",
       "      <td>2</td>\n",
       "      <td>0</td>\n",
       "      <td>97</td>\n",
       "      <td>115</td>\n",
       "      <td>415</td>\n",
       "      <td>48</td>\n",
       "      <td>0</td>\n",
       "      <td>2</td>\n",
       "      <td>0</td>\n",
       "      <td>0</td>\n",
       "      <td>1</td>\n",
       "      <td>2</td>\n",
       "    </tr>\n",
       "    <tr>\n",
       "      <th>3</th>\n",
       "      <td>2</td>\n",
       "      <td>0</td>\n",
       "      <td>246</td>\n",
       "      <td>308</td>\n",
       "      <td>415</td>\n",
       "      <td>48</td>\n",
       "      <td>0</td>\n",
       "      <td>2</td>\n",
       "      <td>0</td>\n",
       "      <td>0</td>\n",
       "      <td>1</td>\n",
       "      <td>2</td>\n",
       "    </tr>\n",
       "    <tr>\n",
       "      <th>4</th>\n",
       "      <td>2</td>\n",
       "      <td>1</td>\n",
       "      <td>81</td>\n",
       "      <td>165</td>\n",
       "      <td>415</td>\n",
       "      <td>48</td>\n",
       "      <td>0</td>\n",
       "      <td>2</td>\n",
       "      <td>0</td>\n",
       "      <td>0</td>\n",
       "      <td>1</td>\n",
       "      <td>2</td>\n",
       "    </tr>\n",
       "  </tbody>\n",
       "</table>\n",
       "</div>"
      ],
      "text/plain": [
       "   Order Status  Quantity  Unit Price  Total Price  Sub Total  \\\n",
       "0             2         1         281          481        415   \n",
       "1             2         0          97          115        415   \n",
       "2             2         0          97          115        415   \n",
       "3             2         0         246          308        415   \n",
       "4             2         1          81          165        415   \n",
       "\n",
       "   Delivery Charge  Payment Method  Merchant  Order Time  Customer Country  \\\n",
       "0               48               0         2           0                 0   \n",
       "1               48               0         2           0                 0   \n",
       "2               48               0         2           0                 0   \n",
       "3               48               0         2           0                 0   \n",
       "4               48               0         2           0                 0   \n",
       "\n",
       "   taux_per_merchant  jour  \n",
       "0                  1     2  \n",
       "1                  1     2  \n",
       "2                  1     2  \n",
       "3                  1     2  \n",
       "4                  1     2  "
      ]
     },
     "execution_count": 103,
     "metadata": {},
     "output_type": "execute_result"
    }
   ],
   "source": [
    "data2.head()"
   ]
  },
  {
   "cell_type": "code",
   "execution_count": 104,
   "metadata": {},
   "outputs": [],
   "source": [
    "# Create submission\n",
    "\n",
    "Y_prediction = knn.predict(data2)\n",
    "\n",
    "submission = pd.DataFrame({\n",
    "        \"Customer\": data_test[\"Customer ID\"],\n",
    "        \"Target\": Y_prediction\n",
    "    })\n",
    "\n",
    "submission.to_csv(\"submission.csv\", index=False)"
   ]
  }
 ],
 "metadata": {
  "kernelspec": {
   "display_name": "Python 3 (ipykernel)",
   "language": "python",
   "name": "python3"
  },
  "language_info": {
   "codemirror_mode": {
    "name": "ipython",
    "version": 3
   },
   "file_extension": ".py",
   "mimetype": "text/x-python",
   "name": "python",
   "nbconvert_exporter": "python",
   "pygments_lexer": "ipython3",
   "version": "3.10.4"
  }
 },
 "nbformat": 4,
 "nbformat_minor": 4
}
